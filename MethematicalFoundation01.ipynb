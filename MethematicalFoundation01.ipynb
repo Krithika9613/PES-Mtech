{
  "nbformat": 4,
  "nbformat_minor": 0,
  "metadata": {
    "colab": {
      "provenance": [],
      "authorship_tag": "ABX9TyOAWkT0su1+3pjZ2YPuk7WX",
      "include_colab_link": true
    },
    "kernelspec": {
      "name": "python3",
      "display_name": "Python 3"
    },
    "language_info": {
      "name": "python"
    }
  },
  "cells": [
    {
      "cell_type": "markdown",
      "metadata": {
        "id": "view-in-github",
        "colab_type": "text"
      },
      "source": [
        "<a href=\"https://colab.research.google.com/github/Krithika9613/PES-Mtech/blob/Methamatical_foundation/MethematicalFoundation01.ipynb\" target=\"_parent\"><img src=\"https://colab.research.google.com/assets/colab-badge.svg\" alt=\"Open In Colab\"/></a>"
      ]
    },
    {
      "cell_type": "code",
      "execution_count": null,
      "metadata": {
        "id": "2kYS3GUNDqkb"
      },
      "outputs": [],
      "source": [
        "import numpy as np"
      ]
    },
    {
      "cell_type": "code",
      "source": [
        "user1=np.array([0.9,0.7])\n",
        "user2=np.array([0.7,0.1])\n",
        "cosine_u1_u2 =np.dot(user1,user2)/(np.linalg.norm(user1)*np.linalg.norm(user2))\n",
        "print(cosine_u1_u2)"
      ],
      "metadata": {
        "colab": {
          "base_uri": "https://localhost:8080/"
        },
        "id": "1PI1f9p8EDtJ",
        "outputId": "bd93127a-9c96-4588-9260-e4e7db412def"
      },
      "execution_count": null,
      "outputs": [
        {
          "output_type": "stream",
          "name": "stdout",
          "text": [
            "0.8682431421244592\n"
          ]
        }
      ]
    },
    {
      "cell_type": "code",
      "source": [
        "scalar_projection =np.dot(user1,user2) /np.linalg.norm(user2)\n",
        "print(scalar_projection)"
      ],
      "metadata": {
        "colab": {
          "base_uri": "https://localhost:8080/"
        },
        "id": "WxZAT1fMD_4T",
        "outputId": "861a07db-60bd-4bf2-9bf9-a75f12a624a9"
      },
      "execution_count": null,
      "outputs": [
        {
          "output_type": "stream",
          "name": "stdout",
          "text": [
            "0.9899494936611666\n"
          ]
        }
      ]
    },
    {
      "cell_type": "code",
      "source": [],
      "metadata": {
        "id": "uSsXsbfXEVba"
      },
      "execution_count": null,
      "outputs": []
    }
  ]
}