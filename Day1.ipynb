{
 "cells": [
  {
   "cell_type": "code",
   "execution_count": 1,
   "id": "3db72481-d95b-4e4a-8dc9-1ff6b3434ccd",
   "metadata": {},
   "outputs": [
    {
     "data": {
      "application/javascript": [
       "\n",
       "        if (window._pyforest_update_imports_cell) { window._pyforest_update_imports_cell('import numpy as np'); }\n",
       "    "
      ],
      "text/plain": [
       "<IPython.core.display.Javascript object>"
      ]
     },
     "metadata": {},
     "output_type": "display_data"
    },
    {
     "data": {
      "application/javascript": [
       "\n",
       "        if (window._pyforest_update_imports_cell) { window._pyforest_update_imports_cell('import numpy as np'); }\n",
       "    "
      ],
      "text/plain": [
       "<IPython.core.display.Javascript object>"
      ]
     },
     "metadata": {},
     "output_type": "display_data"
    },
    {
     "data": {
      "application/javascript": [
       "\n",
       "        if (window._pyforest_update_imports_cell) { window._pyforest_update_imports_cell('import numpy as np'); }\n",
       "    "
      ],
      "text/plain": [
       "<IPython.core.display.Javascript object>"
      ]
     },
     "metadata": {},
     "output_type": "display_data"
    }
   ],
   "source": [
    "a=np.array([1,2,3])\n",
    "b=np.array([4,5,6])\n",
    "c=np.array([7,8,9])"
   ]
  },
  {
   "cell_type": "code",
   "execution_count": 3,
   "id": "cc66330e-4d08-4ebe-b1d1-680cf5ad374d",
   "metadata": {},
   "outputs": [
    {
     "data": {
      "text/plain": [
       "array([1, 2, 3])"
      ]
     },
     "execution_count": 3,
     "metadata": {},
     "output_type": "execute_result"
    }
   ],
   "source": [
    "a"
   ]
  },
  {
   "cell_type": "code",
   "execution_count": 5,
   "id": "31fb07db-e8a4-4f23-af86-001f753cde9d",
   "metadata": {},
   "outputs": [],
   "source": [
    "k=2\n",
    "m=3"
   ]
  },
  {
   "cell_type": "code",
   "execution_count": 7,
   "id": "9d10708a-ab43-43d1-b488-b3efd0bd48f1",
   "metadata": {},
   "outputs": [
    {
     "name": "stdout",
     "output_type": "stream",
     "text": [
      "[5 7 9]\n"
     ]
    }
   ],
   "source": [
    "print(a+b)"
   ]
  },
  {
   "cell_type": "code",
   "execution_count": 9,
   "id": "43c698fe-dffc-47d8-a274-6bd1ac9c8301",
   "metadata": {},
   "outputs": [
    {
     "name": "stdout",
     "output_type": "stream",
     "text": [
      "[5 7 9]\n"
     ]
    }
   ],
   "source": [
    "print(b+a)"
   ]
  },
  {
   "cell_type": "code",
   "execution_count": 11,
   "id": "aa442807-4d81-434f-8a97-6beaaf9bf9cb",
   "metadata": {},
   "outputs": [
    {
     "data": {
      "application/javascript": [
       "\n",
       "        if (window._pyforest_update_imports_cell) { window._pyforest_update_imports_cell('import numpy as np'); }\n",
       "    "
      ],
      "text/plain": [
       "<IPython.core.display.Javascript object>"
      ]
     },
     "metadata": {},
     "output_type": "display_data"
    },
    {
     "name": "stdout",
     "output_type": "stream",
     "text": [
      "True\n"
     ]
    }
   ],
   "source": [
    "print(np.array_equal(a+b, b+a))"
   ]
  },
  {
   "cell_type": "code",
   "execution_count": 13,
   "id": "89688dd7-c7d8-4d8a-a852-ff51c1735425",
   "metadata": {},
   "outputs": [
    {
     "name": "stdout",
     "output_type": "stream",
     "text": [
      "[12 15 18]\n"
     ]
    }
   ],
   "source": [
    "print((a+b)+c)"
   ]
  },
  {
   "cell_type": "code",
   "execution_count": 15,
   "id": "e65d4d08-6ac5-4034-be27-c469c2c57760",
   "metadata": {},
   "outputs": [
    {
     "name": "stdout",
     "output_type": "stream",
     "text": [
      "[12 15 18]\n"
     ]
    }
   ],
   "source": [
    "print(a+(b+c))"
   ]
  },
  {
   "cell_type": "code",
   "execution_count": 25,
   "id": "e807c9e6-7279-45cf-bb2e-8b742f3d0139",
   "metadata": {},
   "outputs": [
    {
     "data": {
      "application/javascript": [
       "\n",
       "        if (window._pyforest_update_imports_cell) { window._pyforest_update_imports_cell('import numpy as np'); }\n",
       "    "
      ],
      "text/plain": [
       "<IPython.core.display.Javascript object>"
      ]
     },
     "metadata": {},
     "output_type": "display_data"
    }
   ],
   "source": [
    "zv=np.zeros_like(a)"
   ]
  },
  {
   "cell_type": "code",
   "execution_count": 27,
   "id": "130ccfcf-5334-4371-ab33-58459ed5c00e",
   "metadata": {},
   "outputs": [
    {
     "name": "stdout",
     "output_type": "stream",
     "text": [
      "[1 2 3]\n"
     ]
    }
   ],
   "source": [
    "print(a + zv)"
   ]
  },
  {
   "cell_type": "code",
   "execution_count": 2,
   "id": "a6d16723-d962-44b2-84fb-e7d73b5b5377",
   "metadata": {},
   "outputs": [],
   "source": [
    "import numpy as np\n",
    "\n",
    "# Define a function to calculate all three norms of a vector\n",
    "def calculate_norms(vector):\n",
    "    l1_norm = np.sum(np.abs(vector))\n",
    "    l2_norm = np.sqrt(np.sum(vector**2))\n",
    "    chebyshev_norm = np.max(np.abs(vector))\n",
    "    return l1_norm, l2_norm, chebyshev_norm\n",
    "\n",
    "# Define a function to calculate distances between two vectors\n",
    "def calculate_distances(vector1, vector2):\n",
    "    diff_vector = vector1 - vector2\n",
    "    l1_distance = np.sum(np.abs(diff_vector))\n",
    "    l2_distance = np.sqrt(np.sum(diff_vector**2))\n",
    "    chebyshev_distance = np.max(np.abs(diff_vector))\n",
    "    return l1_distance, l2_distance, chebyshev_distance"
   ]
  },
  {
   "cell_type": "code",
   "execution_count": null,
   "id": "b6548f13-f089-4e77-8e3d-c0d94db9af8d",
   "metadata": {},
   "outputs": [],
   "source": []
  }
 ],
 "metadata": {
  "kernelspec": {
   "display_name": "Python 3 (ipykernel)",
   "language": "python",
   "name": "python3"
  },
  "language_info": {
   "codemirror_mode": {
    "name": "ipython",
    "version": 3
   },
   "file_extension": ".py",
   "mimetype": "text/x-python",
   "name": "python",
   "nbconvert_exporter": "python",
   "pygments_lexer": "ipython3",
   "version": "3.12.4"
  }
 },
 "nbformat": 4,
 "nbformat_minor": 5
}
