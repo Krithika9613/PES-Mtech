{
 "cells": [
  {
   "cell_type": "markdown",
   "id": "85858a30-6e73-4b33-9ab8-f5f54d0fdf4b",
   "metadata": {},
   "source": [
    "# NumPy"
   ]
  },
  {
   "cell_type": "code",
   "execution_count": 2,
   "id": "ce13c240-d19f-4e4e-ace0-91f215a44aa0",
   "metadata": {},
   "outputs": [],
   "source": [
    "import numpy as np"
   ]
  },
  {
   "cell_type": "markdown",
   "id": "4a6fb5c1-6c7b-4001-88d2-cbfe619c3888",
   "metadata": {},
   "source": [
    "# Numpy Array"
   ]
  },
  {
   "cell_type": "code",
   "execution_count": 4,
   "id": "660e5305-f15e-4d38-b630-9722e0e48f1d",
   "metadata": {},
   "outputs": [],
   "source": [
    "#define list of diff car companies\n",
    "arr_str= [\"Mercedes\", \"BMW\", \"Audi\", \"Ferrari\", \"Tesla\"]"
   ]
  },
  {
   "cell_type": "code",
   "execution_count": 5,
   "id": "6e07681e-74bc-4a4b-a614-11a1e7ea4380",
   "metadata": {},
   "outputs": [],
   "source": [
    "#defining the list of number of cylinders in car or numerical elements\n",
    "arr_num =[5,4,6,7,3]"
   ]
  },
  {
   "cell_type": "code",
   "execution_count": 6,
   "id": "db6aa6bf-06d5-4f9a-a3be-a4fdd2c5daa9",
   "metadata": {},
   "outputs": [
    {
     "name": "stdout",
     "output_type": "stream",
     "text": [
      "numpy Array(arr_str):  ['Mercedes' 'BMW' 'Audi' 'Ferrari' 'Tesla']\n",
      "numpy Array(arr_num):  [5 4 6 7 3]\n"
     ]
    }
   ],
   "source": [
    "#converting list to numpy array\n",
    "np_ar_str= np.array(arr_str)\n",
    "np_ar_num= np.array(arr_num)\n",
    "print(\"numpy Array(arr_str): \",np_ar_str)\n",
    "print(\"numpy Array(arr_num): \",np_ar_num)"
   ]
  },
  {
   "cell_type": "code",
   "execution_count": 7,
   "id": "42bcf338-94d1-4887-be46-94243127f6b5",
   "metadata": {},
   "outputs": [
    {
     "name": "stdout",
     "output_type": "stream",
     "text": [
      "Data type of arr_str:  <class 'list'>\n",
      "Data type of arr_num:  <class 'list'>\n"
     ]
    }
   ],
   "source": [
    "#printing the data type of list\n",
    "print(\"Data type of arr_str: \",type(arr_str))\n",
    "print(\"Data type of arr_num: \",type(arr_num))"
   ]
  },
  {
   "cell_type": "code",
   "execution_count": 8,
   "id": "fc0cdc97-0f42-41db-bf4d-498067e95b6e",
   "metadata": {},
   "outputs": [
    {
     "name": "stdout",
     "output_type": "stream",
     "text": [
      "Data type of np_arr_str:  <class 'numpy.ndarray'>\n",
      "Data type of np_arr_num:  <class 'numpy.ndarray'>\n"
     ]
    }
   ],
   "source": [
    "#printing the data type after conversion of lists to array\n",
    "print(\"Data type of np_arr_str: \",type(np_ar_str))\n",
    "print(\"Data type of np_arr_num: \",type(np_ar_num))"
   ]
  },
  {
   "cell_type": "markdown",
   "id": "2114e6fc-d307-4285-ad9a-3a481580a2bc",
   "metadata": {},
   "source": [
    "# Numpy Matrix (Multidimensional Array)"
   ]
  },
  {
   "cell_type": "code",
   "execution_count": 10,
   "id": "f1ceac76-2fcf-4f3a-8e5d-ed5b874338d5",
   "metadata": {},
   "outputs": [
    {
     "name": "stdout",
     "output_type": "stream",
     "text": [
      "[[1 2 3]\n",
      " [4 5 9]\n",
      " [1 8 9]]\n"
     ]
    }
   ],
   "source": [
    "#info of diff number of cylinders  in a car and we want to display them in a matrix \n",
    "matrix =np.array([[1,2,3],[4,5,9],[1,8,9]])\n",
    "print(matrix)"
   ]
  },
  {
   "cell_type": "code",
   "execution_count": 11,
   "id": "010fbd05-61bb-43be-a7a8-e74eac4ebaa1",
   "metadata": {},
   "outputs": [
    {
     "name": "stdout",
     "output_type": "stream",
     "text": [
      "Data type of matrix:  <class 'numpy.ndarray'>\n"
     ]
    }
   ],
   "source": [
    "#printing datatype\n",
    "print(\"Data type of matrix: \",type(matrix))"
   ]
  },
  {
   "cell_type": "markdown",
   "id": "5b34fb1b-dfec-4644-ae51-fb55ae9f78ae",
   "metadata": {},
   "source": [
    "# Numpy Functions"
   ]
  },
  {
   "cell_type": "markdown",
   "id": "41809f77-c431-462b-9c8c-29bf25656f9e",
   "metadata": {},
   "source": [
    "# np.arange() function"
   ]
  },
  {
   "cell_type": "raw",
   "id": "81e72c5d-0e7e-4dfc-bd1b-fe99a366841b",
   "metadata": {},
   "source": [
    "start is included \n",
    "stop is excluded\n",
    "step is the size of interval"
   ]
  },
  {
   "cell_type": "code",
   "execution_count": 14,
   "id": "ed57b012-dfe8-46b2-8c84-ac19032c1d8b",
   "metadata": {},
   "outputs": [
    {
     "data": {
      "text/plain": [
       "[0, 1, 2, 3, 4, 5, 6, 7, 8, 9]"
      ]
     },
     "execution_count": 14,
     "metadata": {},
     "output_type": "execute_result"
    }
   ],
   "source": [
    "list(range(0,10))"
   ]
  },
  {
   "cell_type": "code",
   "execution_count": 15,
   "id": "c0e2cc4e-62fc-4763-8e88-6c60c7830a85",
   "metadata": {},
   "outputs": [
    {
     "name": "stdout",
     "output_type": "stream",
     "text": [
      "[0 1 2 3 4 5 6 7 8 9]\n",
      "[0 1 2 3 4 5 6 7 8 9]\n"
     ]
    }
   ],
   "source": [
    "arr2 =np.arange(start=0, stop=10)\n",
    "print(arr2)\n",
    "\n",
    "# or\n",
    "\n",
    "arr2 =np.arange(0,10)\n",
    "print(arr2)"
   ]
  },
  {
   "cell_type": "code",
   "execution_count": 16,
   "id": "d12ec858-990f-4000-8b2f-ea4ac68c6c7f",
   "metadata": {},
   "outputs": [
    {
     "data": {
      "text/plain": [
       "array([10, 11, 12, 13, 14, 15, 16, 17, 18, 19, 20])"
      ]
     },
     "execution_count": 16,
     "metadata": {},
     "output_type": "execute_result"
    }
   ],
   "source": [
    "matrix4=np.arange(10,21)\n",
    "matrix4"
   ]
  },
  {
   "cell_type": "markdown",
   "id": "27dd858c-7c6d-49a6-a7c9-04ab6118826d",
   "metadata": {},
   "source": [
    "# 1) Adding step size of 5 to create array"
   ]
  },
  {
   "cell_type": "code",
   "execution_count": 18,
   "id": "24b6e8e1-8c0d-4606-9412-765a1a70244a",
   "metadata": {},
   "outputs": [
    {
     "data": {
      "text/plain": [
       "array([ 0,  5, 10, 15])"
      ]
     },
     "execution_count": 18,
     "metadata": {},
     "output_type": "execute_result"
    }
   ],
   "source": [
    "arr3= np.arange(start=0,stop=20,step=5)\n",
    "arr3"
   ]
  },
  {
   "cell_type": "markdown",
   "id": "8f77c512-3324-41b7-bf0c-b510fc599f2d",
   "metadata": {},
   "source": [
    "# np.linespace() function"
   ]
  },
  {
   "cell_type": "raw",
   "id": "7a7167c1-2caf-4252-a108-d8c7b80b50a3",
   "metadata": {},
   "source": [
    "start is included.\n",
    "stop is included\n",
    "num is no of sample generated by default num = 50"
   ]
  },
  {
   "cell_type": "code",
   "execution_count": 20,
   "id": "70ca45c1-a1c6-4916-a216-7c9c9b4afd51",
   "metadata": {},
   "outputs": [
    {
     "data": {
      "text/plain": [
       "array([0.        , 0.10204082, 0.20408163, 0.30612245, 0.40816327,\n",
       "       0.51020408, 0.6122449 , 0.71428571, 0.81632653, 0.91836735,\n",
       "       1.02040816, 1.12244898, 1.2244898 , 1.32653061, 1.42857143,\n",
       "       1.53061224, 1.63265306, 1.73469388, 1.83673469, 1.93877551,\n",
       "       2.04081633, 2.14285714, 2.24489796, 2.34693878, 2.44897959,\n",
       "       2.55102041, 2.65306122, 2.75510204, 2.85714286, 2.95918367,\n",
       "       3.06122449, 3.16326531, 3.26530612, 3.36734694, 3.46938776,\n",
       "       3.57142857, 3.67346939, 3.7755102 , 3.87755102, 3.97959184,\n",
       "       4.08163265, 4.18367347, 4.28571429, 4.3877551 , 4.48979592,\n",
       "       4.59183673, 4.69387755, 4.79591837, 4.89795918, 5.        ])"
      ]
     },
     "execution_count": 20,
     "metadata": {},
     "output_type": "execute_result"
    }
   ],
   "source": [
    "matrix2=np.linspace(0,5)\n",
    "matrix2"
   ]
  },
  {
   "cell_type": "markdown",
   "id": "2eb683cc-79ab-4f8d-8bf8-9aca10a10ec4",
   "metadata": {},
   "source": [
    "# 1) generate 10 evenly spaced values between 10 and 20"
   ]
  },
  {
   "cell_type": "code",
   "execution_count": 22,
   "id": "93c01456-04c2-42cf-902d-08727c59e439",
   "metadata": {},
   "outputs": [
    {
     "data": {
      "text/plain": [
       "array([10.        , 11.11111111, 12.22222222, 13.33333333, 14.44444444,\n",
       "       15.55555556, 16.66666667, 17.77777778, 18.88888889, 20.        ])"
      ]
     },
     "execution_count": 22,
     "metadata": {},
     "output_type": "execute_result"
    }
   ],
   "source": [
    "matrix3=np.linspace(10,20,10)\n",
    "matrix3"
   ]
  },
  {
   "cell_type": "markdown",
   "id": "b0150912-d3d8-418d-85ed-8633e939c4d5",
   "metadata": {},
   "source": [
    "# np.zeros() function"
   ]
  },
  {
   "cell_type": "raw",
   "id": "1df8d98a-b183-462c-9d59-4c248a0500eb",
   "metadata": {},
   "source": [
    "shape :number of rows and columns\n",
    "dtype:data type in the elements of matrix by default value is set to float"
   ]
  },
  {
   "cell_type": "code",
   "execution_count": 24,
   "id": "a287d1aa-a89c-409c-88b3-b22c7d504d49",
   "metadata": {},
   "outputs": [
    {
     "data": {
      "text/plain": [
       "array([[0., 0., 0., 0., 0.],\n",
       "       [0., 0., 0., 0., 0.],\n",
       "       [0., 0., 0., 0., 0.]])"
      ]
     },
     "execution_count": 24,
     "metadata": {},
     "output_type": "execute_result"
    }
   ],
   "source": [
    "matrix5= np.zeros([3,5])\n",
    "matrix5"
   ]
  },
  {
   "cell_type": "code",
   "execution_count": 25,
   "id": "e8d709c5-e9e4-4615-a4d0-cfbea156d491",
   "metadata": {},
   "outputs": [
    {
     "data": {
      "text/plain": [
       "array([[0, 0, 0, 0, 0],\n",
       "       [0, 0, 0, 0, 0],\n",
       "       [0, 0, 0, 0, 0]])"
      ]
     },
     "execution_count": 25,
     "metadata": {},
     "output_type": "execute_result"
    }
   ],
   "source": [
    "matrix6 =np.zeros([3,5], dtype=int)\n",
    "matrix6"
   ]
  },
  {
   "cell_type": "markdown",
   "id": "b3034a7b-8b1d-4842-83df-bd974d430eec",
   "metadata": {},
   "source": [
    "#  np.ones() function"
   ]
  },
  {
   "cell_type": "raw",
   "id": "2d8e3ef8-e26f-461b-8bc3-b70c44544411",
   "metadata": {},
   "source": [
    "shape :number of rows and columns\n",
    "dtype:data type in the elements of matrix by default value is set to float"
   ]
  },
  {
   "cell_type": "code",
   "execution_count": 27,
   "id": "67018125-2952-4c65-972d-ada4ba52cd18",
   "metadata": {},
   "outputs": [
    {
     "data": {
      "text/plain": [
       "array([[1., 1., 1., 1., 1.],\n",
       "       [1., 1., 1., 1., 1.],\n",
       "       [1., 1., 1., 1., 1.]])"
      ]
     },
     "execution_count": 27,
     "metadata": {},
     "output_type": "execute_result"
    }
   ],
   "source": [
    "matrix7 =np.ones([3,5])\n",
    "matrix7"
   ]
  },
  {
   "cell_type": "code",
   "execution_count": 28,
   "id": "64bdf749-4b9c-4567-9fa1-df28ecd6c913",
   "metadata": {},
   "outputs": [
    {
     "data": {
      "text/plain": [
       "array([[1, 1, 1, 1, 1],\n",
       "       [1, 1, 1, 1, 1],\n",
       "       [1, 1, 1, 1, 1]])"
      ]
     },
     "execution_count": 28,
     "metadata": {},
     "output_type": "execute_result"
    }
   ],
   "source": [
    "matrix8=np.ones([3,5], int)\n",
    "matrix8"
   ]
  },
  {
   "cell_type": "markdown",
   "id": "f03c0150-eac7-4b9d-93da-7640d91532ae",
   "metadata": {},
   "source": [
    "# np.eye() function"
   ]
  },
  {
   "cell_type": "raw",
   "id": "51183d50-bc38-4956-b26d-da19c63e567f",
   "metadata": {},
   "source": [
    "n :Number of rows and columns\n",
    "dtype:data type in the elements of matrix by default value is set to float"
   ]
  },
  {
   "cell_type": "code",
   "execution_count": 30,
   "id": "654b3669-b9fd-4c38-9ca8-4f4665fef881",
   "metadata": {},
   "outputs": [
    {
     "data": {
      "text/plain": [
       "array([[1., 0., 0., 0., 0.],\n",
       "       [0., 1., 0., 0., 0.],\n",
       "       [0., 0., 1., 0., 0.],\n",
       "       [0., 0., 0., 1., 0.],\n",
       "       [0., 0., 0., 0., 1.]])"
      ]
     },
     "execution_count": 30,
     "metadata": {},
     "output_type": "execute_result"
    }
   ],
   "source": [
    "matrix9 =np.eye(5)\n",
    "matrix9"
   ]
  },
  {
   "cell_type": "code",
   "execution_count": 31,
   "id": "2cbd6630-95d1-4f0e-be8b-2288a60aaf2a",
   "metadata": {},
   "outputs": [
    {
     "data": {
      "text/plain": [
       "array([[1, 0, 0, 0, 0],\n",
       "       [0, 1, 0, 0, 0],\n",
       "       [0, 0, 1, 0, 0],\n",
       "       [0, 0, 0, 1, 0],\n",
       "       [0, 0, 0, 0, 1]])"
      ]
     },
     "execution_count": 31,
     "metadata": {},
     "output_type": "execute_result"
    }
   ],
   "source": [
    "matrix10=np.eye(5,dtype=int)\n",
    "matrix10"
   ]
  },
  {
   "cell_type": "markdown",
   "id": "8a3c75a9-dd5a-4f9a-9dfd-e9a1dad4e50a",
   "metadata": {},
   "source": [
    "# Accessing the entries of NumPy Array"
   ]
  },
  {
   "cell_type": "markdown",
   "id": "f3cf7484-8167-4bb9-95d3-6add3dfc4c89",
   "metadata": {},
   "source": [
    "# 1) generate an array with 10 random value "
   ]
  },
  {
   "cell_type": "code",
   "execution_count": 34,
   "id": "1c302d45-a8a2-471d-ad30-259396998484",
   "metadata": {},
   "outputs": [
    {
     "data": {
      "text/plain": [
       "array([-1.42165617, -1.29729123,  0.61881941,  0.61598655, -1.19165971,\n",
       "       -0.70595141, -0.95619555,  0.05334847,  0.64293168,  0.38084356])"
      ]
     },
     "execution_count": 34,
     "metadata": {},
     "output_type": "execute_result"
    }
   ],
   "source": [
    "rand_arr=np.random.randn(10)\n",
    "rand_arr"
   ]
  },
  {
   "cell_type": "code",
   "execution_count": 35,
   "id": "0a39bf6e-a862-44b0-912e-ecff4f0f2165",
   "metadata": {},
   "outputs": [
    {
     "name": "stdout",
     "output_type": "stream",
     "text": [
      "-0.9561955487804417\n"
     ]
    }
   ],
   "source": [
    "#accessing 7th entery of rand_arr\n",
    "print(rand_arr[6])"
   ]
  },
  {
   "cell_type": "code",
   "execution_count": 97,
   "id": "71d2dfa3-4841-4666-b589-b22c539dac86",
   "metadata": {},
   "outputs": [
    {
     "name": "stdout",
     "output_type": "stream",
     "text": [
      "index value to access array:  [3 6 9]\n",
      "[ 0.61598655 -0.95619555  0.38084356]\n"
     ]
    }
   ],
   "source": [
    "#Access multiple non _consecutive entries using np.arange\n",
    "print(\"index value to access array: \", np.arange(3,10,3))\n",
    "print(rand_arr[np.arange(3, 10, 3)])"
   ]
  },
  {
   "cell_type": "code",
   "execution_count": 81,
   "id": "c2b57583-3ba8-46d6-91b1-7b11005382b5",
   "metadata": {},
   "outputs": [
    {
     "data": {
      "text/plain": [
       "array([False, False,  True,  True, False, False, False,  True,  True,\n",
       "        True])"
      ]
     },
     "execution_count": 81,
     "metadata": {},
     "output_type": "execute_result"
    }
   ],
   "source": [
    "#check the value of rand_arr is greater than 0\n",
    "rand_arr>0"
   ]
  },
  {
   "cell_type": "code",
   "execution_count": 83,
   "id": "45d17185-ea9b-4646-b04c-6995e34ed99b",
   "metadata": {},
   "outputs": [
    {
     "name": "stdout",
     "output_type": "stream",
     "text": [
      "values greater than 0:  [0.61881941 0.61598655 0.05334847 0.64293168 0.38084356]\n"
     ]
    }
   ],
   "source": [
    "#accessing values from rand_arr greater than 0\n",
    "\n",
    "print(\"values greater than 0: \", rand_arr[rand_arr >0])"
   ]
  },
  {
   "cell_type": "code",
   "execution_count": 85,
   "id": "94058daf-cb55-4459-a7df-fe030ba5dfaa",
   "metadata": {},
   "outputs": [
    {
     "name": "stdout",
     "output_type": "stream",
     "text": [
      "values less than 0:  [-1.42165617 -1.29729123 -1.19165971 -0.70595141 -0.95619555]\n"
     ]
    }
   ],
   "source": [
    " #accessing values from  rand-arr less than 0\n",
    "print(\"values less than 0: \", rand_arr[rand_arr <0])"
   ]
  },
  {
   "cell_type": "code",
   "execution_count": 36,
   "id": "fe64c961-9c94-461c-9605-6679505f389d",
   "metadata": {},
   "outputs": [
    {
     "name": "stdout",
     "output_type": "stream",
     "text": [
      "[-1.19165971 -0.70595141 -0.95619555  0.05334847  0.64293168]\n"
     ]
    }
   ],
   "source": [
    "#access multiple entries at once using\n",
    "print(rand_arr[4:9])"
   ]
  },
  {
   "cell_type": "code",
   "execution_count": 37,
   "id": "7697fe28-ec1b-49e8-9a50-2e1b12314363",
   "metadata": {},
   "outputs": [
    {
     "data": {
      "text/plain": [
       "array([10, 20, 30, 40, 50])"
      ]
     },
     "execution_count": 37,
     "metadata": {},
     "output_type": "execute_result"
    }
   ],
   "source": [
    "m1= np.arange(10,51,10)\n",
    "m1"
   ]
  },
  {
   "cell_type": "code",
   "execution_count": 38,
   "id": "df5f8936-6380-4e0c-b0e0-61091b24deb5",
   "metadata": {},
   "outputs": [
    {
     "name": "stdout",
     "output_type": "stream",
     "text": [
      "[30 40]\n"
     ]
    }
   ],
   "source": [
    "print(m1[2:4])"
   ]
  },
  {
   "cell_type": "code",
   "execution_count": 39,
   "id": "13003803-b7c2-44ac-b0f3-ed79ce2f3fe3",
   "metadata": {},
   "outputs": [
    {
     "name": "stdout",
     "output_type": "stream",
     "text": [
      "[30]\n"
     ]
    }
   ],
   "source": [
    "print(m1[2:-2])"
   ]
  },
  {
   "cell_type": "markdown",
   "id": "b2c32186-b10e-49c6-946b-b4188863e129",
   "metadata": {},
   "source": [
    " # Saving and loading into nNumpy Array"
   ]
  },
  {
   "cell_type": "code",
   "execution_count": 103,
   "id": "3f68db79-c2ba-43f9-b728-33fa3cec8ec8",
   "metadata": {},
   "outputs": [
    {
     "name": "stdout",
     "output_type": "stream",
     "text": [
      "[[7 1 5 8 8]\n",
      " [9 8 8 1 5]]\n",
      "\n",
      "[[7 1 5 8 8]\n",
      " [9 8 8 1 5]]\n"
     ]
    }
   ],
   "source": [
    "#creating a random matrices\n",
    "rand_m1= np.random.randint(1,10,10).reshape(2,5)\n",
    "print(rand_m1)\n",
    "print(\"\")\n",
    "rand_m2= np.random.randint(10,20,10).reshape(2,5)\n",
    "print(rand_m1)"
   ]
  },
  {
   "cell_type": "markdown",
   "id": "7332ea6f-edb1-4ca8-9290-b4049732cb70",
   "metadata": {},
   "source": [
    "# np.save() function"
   ]
  },
  {
   "cell_type": "code",
   "execution_count": 118,
   "id": "38c75bc1-999b-4720-936a-e60e3273115d",
   "metadata": {},
   "outputs": [],
   "source": [
    "np.save(\"save_np_file\",rand_m1)"
   ]
  },
  {
   "cell_type": "markdown",
   "id": "300a04ad-5784-4ca6-8b89-3f8830d9b977",
   "metadata": {},
   "source": [
    "# np.savez() function"
   ]
  },
  {
   "cell_type": "code",
   "execution_count": 121,
   "id": "f62d9e7b-ab3a-498a-abd8-1812b89f0a82",
   "metadata": {},
   "outputs": [],
   "source": [
    "np.savez(\"save_np_multiplefile\",\n",
    "         rand_m1 =rand_m2,\n",
    "        rand_m2=rand_m1\n",
    "        )"
   ]
  },
  {
   "cell_type": "markdown",
   "id": "a96681b0-0ee4-4746-8759-b91396c510bf",
   "metadata": {},
   "source": [
    "# np.load() function"
   ]
  },
  {
   "cell_type": "code",
   "execution_count": 126,
   "id": "6f7f50d2-60bf-4822-91e7-16b857387c01",
   "metadata": {},
   "outputs": [
    {
     "name": "stdout",
     "output_type": "stream",
     "text": [
      "[[7 1 5 8 8]\n",
      " [9 8 8 1 5]]\n",
      "\n",
      "NpzFile 'save_np_multiplefile.npz' with keys: rand_m1, rand_m2\n"
     ]
    }
   ],
   "source": [
    "loaded_arr =np.load(\"save_np_file.npy\")\n",
    "loaded_multi =np.load(\"save_np_multiplefile.npz\")\n",
    "print(loaded_arr)\n",
    "print(\"\")\n",
    "print(loaded_multi)"
   ]
  },
  {
   "cell_type": "code",
   "execution_count": 134,
   "id": "26cf58a1-1247-45b7-954d-b4625367d8a3",
   "metadata": {},
   "outputs": [
    {
     "name": "stdout",
     "output_type": "stream",
     "text": [
      "1st matrix\n",
      ":  [[11 10 16 13 13]\n",
      " [17 15 17 18 19]]\n",
      "2st matrix\n",
      ":  [[7 1 5 8 8]\n",
      " [9 8 8 1 5]]\n",
      "New Matrix:\n",
      " [[7 1 5 8 8]\n",
      " [9 8 8 1 5]]\n"
     ]
    }
   ],
   "source": [
    "print(\"1st matrix\\n: \" ,loaded_multi[\"rand_m1\"])\n",
    "print(\"2st matrix\\n: \" ,loaded_multi[\"rand_m2\"])\n",
    "\n",
    "new_matrix=loaded_multi[\"rand_m2\"]\n",
    "print(\"New Matrix:\\n\",new_matrix)"
   ]
  },
  {
   "cell_type": "markdown",
   "id": "9c80d820-bef7-4e36-9055-f12489a5bcd8",
   "metadata": {},
   "source": [
    "# np.savetxt() function"
   ]
  },
  {
   "cell_type": "code",
   "execution_count": 137,
   "id": "7e7463e3-4fc7-4b23-9089-3bcc77d566c1",
   "metadata": {},
   "outputs": [],
   "source": [
    "np.savetxt(\"np_text_file.txt\", rand_m1,delimiter=\",\",)"
   ]
  },
  {
   "cell_type": "markdown",
   "id": "bfa8cfa8-e747-44f6-b3cf-aaa2a87542f2",
   "metadata": {},
   "source": [
    "# np.loadtxt() function"
   ]
  },
  {
   "cell_type": "code",
   "execution_count": 145,
   "id": "f63bb237-b181-4824-9f90-e0c831e66caf",
   "metadata": {},
   "outputs": [
    {
     "data": {
      "text/plain": [
       "array([[7., 1., 5., 8., 8.],\n",
       "       [9., 8., 8., 1., 5.]])"
      ]
     },
     "execution_count": 145,
     "metadata": {},
     "output_type": "execute_result"
    }
   ],
   "source": [
    "np.loadtxt(\"np_text_file.txt\", delimiter=\",\",)"
   ]
  },
  {
   "cell_type": "code",
   "execution_count": 153,
   "id": "84ba3c08-9638-487c-b975-0b63e7afbfd4",
   "metadata": {},
   "outputs": [
    {
     "name": "stdout",
     "output_type": "stream",
     "text": [
      "array before reshaping:  [[7 1 5 8 8]\n",
      " [9 8 8 1 5]]\n",
      "array after reshaping:  [[7 1 5 8 8]\n",
      " [9 8 8 1 5]]\n"
     ]
    }
   ],
   "source": [
    "#reshape the loaded matrix\n",
    "text_arr=np.loadtxt(\"np_text_file.txt\", delimiter=\",\",)\n",
    "int_arr =text_arr.astype(int)\n",
    "reshaped_arr= int_arr.reshape(2,5)\n",
    "print(\"array before reshaping: \",int_arr)\n",
    "print(\"array after reshaping: \",reshaped_arr)"
   ]
  },
  {
   "cell_type": "code",
   "execution_count": null,
   "id": "ea7eb59d-23ef-4a65-8364-e5241cce56ab",
   "metadata": {},
   "outputs": [],
   "source": []
  }
 ],
 "metadata": {
  "kernelspec": {
   "display_name": "Python [conda env:base] *",
   "language": "python",
   "name": "conda-base-py"
  },
  "language_info": {
   "codemirror_mode": {
    "name": "ipython",
    "version": 3
   },
   "file_extension": ".py",
   "mimetype": "text/x-python",
   "name": "python",
   "nbconvert_exporter": "python",
   "pygments_lexer": "ipython3",
   "version": "3.12.7"
  }
 },
 "nbformat": 4,
 "nbformat_minor": 5
}
