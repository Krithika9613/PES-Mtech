{
 "cells": [
  {
   "cell_type": "code",
   "execution_count": 1,
   "id": "8186c1fa-5763-40dd-828f-8d2d81c8b785",
   "metadata": {},
   "outputs": [],
   "source": [
    "# Dot Product"
   ]
  },
  {
   "cell_type": "code",
   "execution_count": 13,
   "id": "6d36b46d-bfe1-4f2c-9972-dd5904e7243d",
   "metadata": {},
   "outputs": [
    {
     "name": "stdout",
     "output_type": "stream",
     "text": [
      "Dot Product: 32\n"
     ]
    }
   ],
   "source": [
    "v1 = [1, 2, 3]\n",
    "v2 = [4, 5, 6]\n",
    "\n",
    "# Calculate the dot produc\n",
    "dot_product = 0\n",
    "for x, y in zip(v1, v2):\n",
    "    dot_product += x * y\n",
    "\n",
    "print(\"Dot Product:\", dot_product)"
   ]
  },
  {
   "cell_type": "code",
   "execution_count": 23,
   "id": "afb79186-54a3-4af7-bc22-80a56b30efcb",
   "metadata": {},
   "outputs": [],
   "source": [
    "import numpy as np"
   ]
  },
  {
   "cell_type": "code",
   "execution_count": 27,
   "id": "6e464a60-8d0b-4d92-b6a6-1dfbc6ddbd39",
   "metadata": {},
   "outputs": [
    {
     "name": "stdout",
     "output_type": "stream",
     "text": [
      "0.8682431421244592\n"
     ]
    }
   ],
   "source": [
    "user1 = np.array([0.9, 0.7])\n",
    "user2 = np.array([0.7, 0.1])\n",
    "\n",
    "cosine_u1_u2 = np.dot(user1, user2) / (np.linalg.norm(user1) * np.linalg.norm(user2))\n",
    "print(cosine_u1_u2)"
   ]
  },
  {
   "cell_type": "code",
   "execution_count": 29,
   "id": "13411c5d-3753-4f48-99fe-7cf8c0bd0e9d",
   "metadata": {},
   "outputs": [
    {
     "name": "stdout",
     "output_type": "stream",
     "text": [
      "Scalar Projection of user1 onto user2: 0.9899494936611666\n"
     ]
    }
   ],
   "source": [
    "# Define the vectors\n",
    "user1 = np.array([0.9, 0.7])\n",
    "user2 = np.array([0.7, 0.1])\n",
    "\n",
    "# Compute the scalar projection\n",
    "scalar_projection = np.dot(user1, user2) / np.linalg.norm(user2)\n",
    "\n",
    "print(\"Scalar Projection of user1 onto user2:\", scalar_projection)"
   ]
  },
  {
   "cell_type": "code",
   "execution_count": 31,
   "id": "9ae32767-f9c3-441d-9354-f6890142f39c",
   "metadata": {},
   "outputs": [
    {
     "name": "stdout",
     "output_type": "stream",
     "text": [
      "Vector Projection of user1 onto user2: [0.98 0.14]\n"
     ]
    }
   ],
   "source": [
    "# Define the vectors\n",
    "user1 = np.array([0.9, 0.7])\n",
    "user2 = np.array([0.7, 0.1])\n",
    "\n",
    "# Compute the vector projection\n",
    "dot_product = np.dot(user1, user2)\n",
    "magnitude_squared = np.linalg.norm(user2) ** 2\n",
    "vector_projection = (dot_product / magnitude_squared) * user2\n",
    "\n",
    "print(\"Vector Projection of user1 onto user2:\", vector_projection)"
   ]
  },
  {
   "cell_type": "code",
   "execution_count": 35,
   "id": "c179923d-24de-4086-a2b6-4c04855d08ad",
   "metadata": {},
   "outputs": [
    {
     "name": "stdout",
     "output_type": "stream",
     "text": [
      "1.6\n"
     ]
    }
   ],
   "source": [
    "norm_user1= np.linalg.norm(user1, 1)\n",
    "print(norm_user1)"
   ]
  },
  {
   "cell_type": "code",
   "execution_count": 37,
   "id": "e0257841-fd4f-4d3d-836f-8fdd1ecae6d2",
   "metadata": {},
   "outputs": [
    {
     "name": "stdout",
     "output_type": "stream",
     "text": [
      "0.7999999999999999\n"
     ]
    }
   ],
   "source": [
    "norm_user2= np.linalg.norm(user2, 1)\n",
    "print(norm_user2)"
   ]
  },
  {
   "cell_type": "code",
   "execution_count": 39,
   "id": "6c1acf30-51fc-4739-a911-e2307968da21",
   "metadata": {},
   "outputs": [
    {
     "name": "stdout",
     "output_type": "stream",
     "text": [
      "Scalar projection of u on v: 4.8\n",
      "Scalar projection of v on u: 4.8\n",
      "Vector projection of u on v: [3.84 2.88]\n",
      "Vector projection of v on u: [2.88 3.84]\n"
     ]
    }
   ],
   "source": [
    "import numpy as np\n",
    "\n",
    "# Define the vectors u and v\n",
    "u = np.array([3, 4])\n",
    "v = np.array([4, 3])\n",
    "\n",
    "# Compute the dot product of u and v\n",
    "dot_product_uv = np.dot(u, v)\n",
    "\n",
    "# Compute the magnitudes of u and v\n",
    "magnitude_u = np.linalg.norm(u)\n",
    "magnitude_v = np.linalg.norm(v)\n",
    "\n",
    "# Compute the scalar projection of u on v\n",
    "scalar_projection_u_on_v = dot_product_uv / magnitude_v\n",
    "\n",
    "# Compute the scalar projection of v on u\n",
    "scalar_projection_v_on_u = dot_product_uv / magnitude_u\n",
    "\n",
    "# Compute the vector projection of u on v\n",
    "vector_projection_u_on_v = (dot_product_uv / (magnitude_v ** 2)) * v\n",
    "\n",
    "# Compute the vector projection of v on u\n",
    "vector_projection_v_on_u = (dot_product_uv / (magnitude_u ** 2)) * u\n",
    "\n",
    "# Print the results\n",
    "print(f\"Scalar projection of u on v: {scalar_projection_u_on_v}\")\n",
    "print(f\"Scalar projection of v on u: {scalar_projection_v_on_u}\")\n",
    "print(f\"Vector projection of u on v: {vector_projection_u_on_v}\")\n",
    "print(f\"Vector projection of v on u: {vector_projection_v_on_u}\")"
   ]
  },
  {
   "cell_type": "code",
   "execution_count": 41,
   "id": "0a1aa4d5-d5e7-4334-8a77-4a7fd0ea8795",
   "metadata": {},
   "outputs": [
    {
     "name": "stdout",
     "output_type": "stream",
     "text": [
      "Linear combination with c1=2 and c2=3.24: w = [ 7.24 18.96]\n",
      "Linear combination with c1=2 and c3=4: w = [ 8 22]\n",
      "Linear combination with c2=3.24 and c3=4: w = [10.48 25.72]\n"
     ]
    }
   ],
   "source": [
    "import numpy as np\n",
    "\n",
    "# Define two 2D vectors\n",
    "u = np.array([2, 3])\n",
    "v = np.array([1, 4])\n",
    "\n",
    "# Define coefficients for the linear combination\n",
    "c1 = 2\n",
    "c2 = 3.24\n",
    "c3 = 4\n",
    "\n",
    "# Compute the linear combination\n",
    "w1 = c1 * u + c2 * v\n",
    "w2 = c1 * u + c3 * v\n",
    "w3 = c2 * u + c3 * v\n",
    "\n",
    "# Print results\n",
    "print(f\"Linear combination with c1={c1} and c2={c2}: w = {w1}\")\n",
    "print(f\"Linear combination with c1={c1} and c3={c3}: w = {w2}\")\n",
    "print(f\"Linear combination with c2={c2} and c3={c3}: w = {w3}\")"
   ]
  },
  {
   "cell_type": "code",
   "execution_count": null,
   "id": "e8b94ce6-2104-483d-a938-25d4743a5dd1",
   "metadata": {},
   "outputs": [],
   "source": []
  }
 ],
 "metadata": {
  "kernelspec": {
   "display_name": "Python 3 (ipykernel)",
   "language": "python",
   "name": "python3"
  },
  "language_info": {
   "codemirror_mode": {
    "name": "ipython",
    "version": 3
   },
   "file_extension": ".py",
   "mimetype": "text/x-python",
   "name": "python",
   "nbconvert_exporter": "python",
   "pygments_lexer": "ipython3",
   "version": "3.12.4"
  }
 },
 "nbformat": 4,
 "nbformat_minor": 5
}
