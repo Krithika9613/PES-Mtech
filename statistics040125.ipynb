{
  "nbformat": 4,
  "nbformat_minor": 0,
  "metadata": {
    "colab": {
      "provenance": [],
      "authorship_tag": "ABX9TyN3wjwgULHXvDNh6g/QzCZY",
      "include_colab_link": true
    },
    "kernelspec": {
      "name": "python3",
      "display_name": "Python 3"
    },
    "language_info": {
      "name": "python"
    }
  },
  "cells": [
    {
      "cell_type": "markdown",
      "metadata": {
        "id": "view-in-github",
        "colab_type": "text"
      },
      "source": [
        "<a href=\"https://colab.research.google.com/github/Krithika9613/PES-Mtech/blob/main/statistics040125.ipynb\" target=\"_parent\"><img src=\"https://colab.research.google.com/assets/colab-badge.svg\" alt=\"Open In Colab\"/></a>"
      ]
    },
    {
      "cell_type": "code",
      "execution_count": null,
      "metadata": {
        "colab": {
          "base_uri": "https://localhost:8080/",
          "height": 314
        },
        "id": "l4B0VovEh3Mc",
        "outputId": "aeb04ccd-b899-48e4-9876-7d097fb7c12c"
      },
      "outputs": [
        {
          "output_type": "error",
          "ename": "ModuleNotFoundError",
          "evalue": "No module named 'pyforest'",
          "traceback": [
            "\u001b[0;31m---------------------------------------------------------------------------\u001b[0m",
            "\u001b[0;31mModuleNotFoundError\u001b[0m                       Traceback (most recent call last)",
            "\u001b[0;32m<ipython-input-1-48b8b37c8080>\u001b[0m in \u001b[0;36m<cell line: 1>\u001b[0;34m()\u001b[0m\n\u001b[0;32m----> 1\u001b[0;31m \u001b[0;32mimport\u001b[0m \u001b[0mpyforest\u001b[0m\u001b[0;34m\u001b[0m\u001b[0;34m\u001b[0m\u001b[0m\n\u001b[0m",
            "\u001b[0;31mModuleNotFoundError\u001b[0m: No module named 'pyforest'",
            "",
            "\u001b[0;31m---------------------------------------------------------------------------\u001b[0;32m\nNOTE: If your import is failing due to a missing package, you can\nmanually install dependencies using either !pip or !apt.\n\nTo view examples of installing some common dependencies, click the\n\"Open Examples\" button below.\n\u001b[0;31m---------------------------------------------------------------------------\u001b[0m\n"
          ],
          "errorDetails": {
            "actions": [
              {
                "action": "open_url",
                "actionText": "Open Examples",
                "url": "/notebooks/snippets/importing_libraries.ipynb"
              }
            ]
          }
        }
      ],
      "source": [
        "import pyforest\n"
      ]
    },
    {
      "cell_type": "markdown",
      "source": [
        "In a branch averageb defective chequesin a day is 5.On a given day what are the probabilities of\n",
        "\n",
        "1.  getting 0 defective cheques\n",
        "2.   10 defective cheques\n",
        "\n",
        "\n",
        "\n",
        "\n",
        "\n"
      ],
      "metadata": {
        "id": "MQnKnjCiktPF"
      }
    },
    {
      "cell_type": "code",
      "source": [
        "# import 'numpy'\n",
        "import numpy as np\n",
        "\n",
        "# to suppress warnings\n",
        "from warnings import filterwarnings\n",
        "filterwarnings('ignore')\n",
        "\n",
        "# import 'factorial' from math library\n",
        "from math import factorial\n",
        "\n",
        "# import 'stats' package from scipy library\n",
        "from scipy import stats\n",
        "\n",
        "# import 'random' to generate a random sample\n",
        "import random\n",
        "\n",
        "# import subpackage of matplotlib\n",
        "import matplotlib.pyplot as plt\n",
        "\n",
        "# import 'seaborn'\n",
        "import seaborn as sns\n",
        "\n",
        "\n",
        "# import statistics to perform statistical computation\n",
        "import statistics\n",
        "\n",
        "# import 'stats' package from scipy library\n",
        "from scipy import stats"
      ],
      "metadata": {
        "id": "VOQvJRoBmCx0"
      },
      "execution_count": 1,
      "outputs": []
    },
    {
      "cell_type": "code",
      "source": [
        "# first let us find the value of k\n",
        "# P(X=x) will be a probability mass function of X if sum of all the probabilities is equal to 1\n",
        "# i.e. 1 = 8k + 10k + 3k + 5k\n",
        "k = 1/ 26\n",
        "\n",
        "# to find: P(X <= 2) = 1 - P(X = 3)\n",
        "req_prob = 1 - (5*k)\n",
        "\n",
        "print('The probability that at most 2 accidents will occur in a day is:', req_prob)"
      ],
      "metadata": {
        "colab": {
          "base_uri": "https://localhost:8080/"
        },
        "id": "Lb2i9fr6uSIA",
        "outputId": "370a5093-aee6-4652-87e8-08315e7d8041"
      },
      "execution_count": 2,
      "outputs": [
        {
          "output_type": "stream",
          "name": "stdout",
          "text": [
            "The probability that at most 2 accidents will occur in a day is: 0.8076923076923077\n"
          ]
        }
      ]
    },
    {
      "cell_type": "code",
      "source": [
        "z=+-1\n",
        "stats.norm.cdf(1)-stats.norm.cdf(-1,0,1)"
      ],
      "metadata": {
        "colab": {
          "base_uri": "https://localhost:8080/"
        },
        "id": "Y1-gaCyju6yP",
        "outputId": "7d26a1ef-a127-4edb-bda5-2d8d2f517b94"
      },
      "execution_count": 3,
      "outputs": [
        {
          "output_type": "execute_result",
          "data": {
            "text/plain": [
              "0.6826894921370859"
            ]
          },
          "metadata": {},
          "execution_count": 3
        }
      ]
    },
    {
      "cell_type": "markdown",
      "source": [],
      "metadata": {
        "id": "OmpEITTw5hQ8"
      }
    },
    {
      "cell_type": "markdown",
      "source": [
        "What is the minimum height of the student  of 75% of class"
      ],
      "metadata": {
        "id": "1ASNTN6E5n9R"
      }
    },
    {
      "cell_type": "code",
      "source": [
        " mu =5\n",
        " sigma =0.6\n",
        " stats.norm.isf(0.75,mu,sigma)"
      ],
      "metadata": {
        "id": "zkvnbo0F6StS",
        "outputId": "5335b832-58e5-4721-ebf8-ddd66b46bd46",
        "colab": {
          "base_uri": "https://localhost:8080/"
        }
      },
      "execution_count": 11,
      "outputs": [
        {
          "output_type": "execute_result",
          "data": {
            "text/plain": [
              "4.595306149882351"
            ]
          },
          "metadata": {},
          "execution_count": 11
        }
      ]
    },
    {
      "cell_type": "code",
      "source": [],
      "metadata": {
        "id": "k9i1GZM_Isgd"
      },
      "execution_count": null,
      "outputs": []
    },
    {
      "cell_type": "markdown",
      "source": [
        "What is the maximum Height of student of 60% of class\n"
      ],
      "metadata": {
        "id": "HCpAc6bF6GKs"
      }
    },
    {
      "cell_type": "code",
      "source": [
        "stats.norm.isf(0.60,mu,sigma)"
      ],
      "metadata": {
        "id": "V--L7zQa7SaQ",
        "outputId": "ad122b2c-7c19-44ba-d14a-3efe12c729f4",
        "colab": {
          "base_uri": "https://localhost:8080/"
        }
      },
      "execution_count": 15,
      "outputs": [
        {
          "output_type": "execute_result",
          "data": {
            "text/plain": [
              "4.8479917381185205"
            ]
          },
          "metadata": {},
          "execution_count": 15
        }
      ]
    },
    {
      "cell_type": "code",
      "source": [
        "import random\n"
      ],
      "metadata": {
        "id": "cZDUX872Iti8"
      },
      "execution_count": 16,
      "outputs": []
    },
    {
      "cell_type": "code",
      "source": [
        "population =np.arange(1,101)\n",
        "random.seed(100)\n",
        "#we can get sample more than the population\n",
        "random.choices(population,k=150)"
      ],
      "metadata": {
        "id": "GgTUhOUrI9v-",
        "outputId": "67ec0ef2-b433-4042-b34b-2b2867faed27",
        "colab": {
          "base_uri": "https://localhost:8080/"
        }
      },
      "execution_count": 24,
      "outputs": [
        {
          "output_type": "execute_result",
          "data": {
            "text/plain": [
              "[15,\n",
              " 46,\n",
              " 78,\n",
              " 71,\n",
              " 74,\n",
              " 44,\n",
              " 81,\n",
              " 54,\n",
              " 9,\n",
              " 46,\n",
              " 5,\n",
              " 94,\n",
              " 95,\n",
              " 34,\n",
              " 31,\n",
              " 77,\n",
              " 21,\n",
              " 18,\n",
              " 19,\n",
              " 35,\n",
              " 63,\n",
              " 97,\n",
              " 22,\n",
              " 96,\n",
              " 56,\n",
              " 91,\n",
              " 82,\n",
              " 17,\n",
              " 65,\n",
              " 13,\n",
              " 1,\n",
              " 40,\n",
              " 78,\n",
              " 57,\n",
              " 20,\n",
              " 85,\n",
              " 92,\n",
              " 24,\n",
              " 45,\n",
              " 64,\n",
              " 91,\n",
              " 13,\n",
              " 56,\n",
              " 97,\n",
              " 61,\n",
              " 72,\n",
              " 78,\n",
              " 51,\n",
              " 29,\n",
              " 60,\n",
              " 53,\n",
              " 35,\n",
              " 86,\n",
              " 37,\n",
              " 49,\n",
              " 77,\n",
              " 82,\n",
              " 90,\n",
              " 66,\n",
              " 26,\n",
              " 85,\n",
              " 91,\n",
              " 72,\n",
              " 77,\n",
              " 52,\n",
              " 50,\n",
              " 59,\n",
              " 15,\n",
              " 68,\n",
              " 87,\n",
              " 17,\n",
              " 76,\n",
              " 71,\n",
              " 13,\n",
              " 6,\n",
              " 60,\n",
              " 22,\n",
              " 31,\n",
              " 63,\n",
              " 66,\n",
              " 75,\n",
              " 57,\n",
              " 34,\n",
              " 2,\n",
              " 12,\n",
              " 20,\n",
              " 53,\n",
              " 73,\n",
              " 21,\n",
              " 39,\n",
              " 94,\n",
              " 41,\n",
              " 72,\n",
              " 62,\n",
              " 66,\n",
              " 48,\n",
              " 55,\n",
              " 71,\n",
              " 17,\n",
              " 80,\n",
              " 88,\n",
              " 5,\n",
              " 20,\n",
              " 25,\n",
              " 10,\n",
              " 14,\n",
              " 65,\n",
              " 13,\n",
              " 7,\n",
              " 95,\n",
              " 41,\n",
              " 55,\n",
              " 48,\n",
              " 35,\n",
              " 46,\n",
              " 20,\n",
              " 58,\n",
              " 26,\n",
              " 15,\n",
              " 21,\n",
              " 42,\n",
              " 94,\n",
              " 60,\n",
              " 99,\n",
              " 41,\n",
              " 27,\n",
              " 72,\n",
              " 20,\n",
              " 100,\n",
              " 40,\n",
              " 28,\n",
              " 28,\n",
              " 31,\n",
              " 94,\n",
              " 100,\n",
              " 56,\n",
              " 24,\n",
              " 1,\n",
              " 8,\n",
              " 30,\n",
              " 65,\n",
              " 63,\n",
              " 86,\n",
              " 83,\n",
              " 36,\n",
              " 68,\n",
              " 45,\n",
              " 73,\n",
              " 19,\n",
              " 98]"
            ]
          },
          "metadata": {},
          "execution_count": 24
        }
      ]
    }
  ]
}