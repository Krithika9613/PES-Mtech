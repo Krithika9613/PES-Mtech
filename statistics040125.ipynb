{
  "nbformat": 4,
  "nbformat_minor": 0,
  "metadata": {
    "colab": {
      "provenance": [],
      "authorship_tag": "ABX9TyNpCCMr3/3f96UHXjH0izmN",
      "include_colab_link": true
    },
    "kernelspec": {
      "name": "python3",
      "display_name": "Python 3"
    },
    "language_info": {
      "name": "python"
    }
  },
  "cells": [
    {
      "cell_type": "markdown",
      "metadata": {
        "id": "view-in-github",
        "colab_type": "text"
      },
      "source": [
        "<a href=\"https://colab.research.google.com/github/Krithika9613/PES-Mtech/blob/main/statistics040125.ipynb\" target=\"_parent\"><img src=\"https://colab.research.google.com/assets/colab-badge.svg\" alt=\"Open In Colab\"/></a>"
      ]
    },
    {
      "cell_type": "code",
      "execution_count": null,
      "metadata": {
        "colab": {
          "base_uri": "https://localhost:8080/",
          "height": 314
        },
        "id": "l4B0VovEh3Mc",
        "outputId": "aeb04ccd-b899-48e4-9876-7d097fb7c12c"
      },
      "outputs": [
        {
          "output_type": "error",
          "ename": "ModuleNotFoundError",
          "evalue": "No module named 'pyforest'",
          "traceback": [
            "\u001b[0;31m---------------------------------------------------------------------------\u001b[0m",
            "\u001b[0;31mModuleNotFoundError\u001b[0m                       Traceback (most recent call last)",
            "\u001b[0;32m<ipython-input-1-48b8b37c8080>\u001b[0m in \u001b[0;36m<cell line: 1>\u001b[0;34m()\u001b[0m\n\u001b[0;32m----> 1\u001b[0;31m \u001b[0;32mimport\u001b[0m \u001b[0mpyforest\u001b[0m\u001b[0;34m\u001b[0m\u001b[0;34m\u001b[0m\u001b[0m\n\u001b[0m",
            "\u001b[0;31mModuleNotFoundError\u001b[0m: No module named 'pyforest'",
            "",
            "\u001b[0;31m---------------------------------------------------------------------------\u001b[0;32m\nNOTE: If your import is failing due to a missing package, you can\nmanually install dependencies using either !pip or !apt.\n\nTo view examples of installing some common dependencies, click the\n\"Open Examples\" button below.\n\u001b[0;31m---------------------------------------------------------------------------\u001b[0m\n"
          ],
          "errorDetails": {
            "actions": [
              {
                "action": "open_url",
                "actionText": "Open Examples",
                "url": "/notebooks/snippets/importing_libraries.ipynb"
              }
            ]
          }
        }
      ],
      "source": [
        "import pyforest\n"
      ]
    },
    {
      "cell_type": "markdown",
      "source": [
        "In a branch averageb defective chequesin a day is 5.On a given day what are the probabilities of\n",
        "\n",
        "1.  getting 0 defective cheques\n",
        "2.   10 defective cheques\n",
        "\n",
        "\n",
        "\n",
        "\n",
        "\n"
      ],
      "metadata": {
        "id": "MQnKnjCiktPF"
      }
    },
    {
      "cell_type": "code",
      "source": [
        "# import 'numpy'\n",
        "import numpy as np\n",
        "\n",
        "# to suppress warnings\n",
        "from warnings import filterwarnings\n",
        "filterwarnings('ignore')\n",
        "\n",
        "# import 'factorial' from math library\n",
        "from math import factorial\n",
        "\n",
        "# import 'stats' package from scipy library\n",
        "from scipy import stats\n",
        "\n",
        "# import 'random' to generate a random sample\n",
        "import random\n",
        "\n",
        "# import subpackage of matplotlib\n",
        "import matplotlib.pyplot as plt\n",
        "\n",
        "# import 'seaborn'\n",
        "import seaborn as sns\n",
        "\n",
        "\n",
        "# import statistics to perform statistical computation\n",
        "import statistics\n",
        "\n",
        "# import 'stats' package from scipy library\n",
        "from scipy import stats"
      ],
      "metadata": {
        "id": "VOQvJRoBmCx0"
      },
      "execution_count": 1,
      "outputs": []
    },
    {
      "cell_type": "code",
      "source": [
        "# first let us find the value of k\n",
        "# P(X=x) will be a probability mass function of X if sum of all the probabilities is equal to 1\n",
        "# i.e. 1 = 8k + 10k + 3k + 5k\n",
        "k = 1/ 26\n",
        "\n",
        "# to find: P(X <= 2) = 1 - P(X = 3)\n",
        "req_prob = 1 - (5*k)\n",
        "\n",
        "print('The probability that at most 2 accidents will occur in a day is:', req_prob)"
      ],
      "metadata": {
        "id": "Lb2i9fr6uSIA",
        "outputId": "370a5093-aee6-4652-87e8-08315e7d8041",
        "colab": {
          "base_uri": "https://localhost:8080/"
        }
      },
      "execution_count": 2,
      "outputs": [
        {
          "output_type": "stream",
          "name": "stdout",
          "text": [
            "The probability that at most 2 accidents will occur in a day is: 0.8076923076923077\n"
          ]
        }
      ]
    },
    {
      "cell_type": "code",
      "source": [],
      "metadata": {
        "id": "Y1-gaCyju6yP"
      },
      "execution_count": null,
      "outputs": []
    }
  ]
}