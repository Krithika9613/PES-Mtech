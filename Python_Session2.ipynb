{
 "cells": [
  {
   "cell_type": "markdown",
   "id": "c8a91ac0-17a2-44b6-9099-203734797aa2",
   "metadata": {},
   "source": [
    "# List & Tuples"
   ]
  },
  {
   "cell_type": "markdown",
   "id": "28d89104-05f0-4201-95eb-af76922ef094",
   "metadata": {},
   "source": [
    "# List - Mutable data structure.Data that can be modified"
   ]
  },
  {
   "cell_type": "code",
   "execution_count": 12,
   "id": "c4db8f2f-5670-4e84-b918-260a2d121417",
   "metadata": {},
   "outputs": [
    {
     "data": {
      "text/plain": [
       "['Apple', 'Samsung', 'LG', 'Apple']"
      ]
     },
     "execution_count": 12,
     "metadata": {},
     "output_type": "execute_result"
    }
   ],
   "source": [
    "#Create a list to store Brand name\n",
    "brand_list=['Apple',\"Samsung\",\"LG\",\"Apple\"]\n",
    "brand_list"
   ]
  },
  {
   "cell_type": "code",
   "execution_count": 14,
   "id": "5fbe998a-895f-4496-910f-5ad88ae749a7",
   "metadata": {},
   "outputs": [
    {
     "data": {
      "text/plain": [
       "list"
      ]
     },
     "execution_count": 14,
     "metadata": {},
     "output_type": "execute_result"
    }
   ],
   "source": [
    "type(brand_list)"
   ]
  },
  {
   "cell_type": "code",
   "execution_count": 16,
   "id": "14367560-45a6-43e6-96f8-d97eecea56dc",
   "metadata": {},
   "outputs": [],
   "source": [
    "#Create a list of Ram ,storage,price\n",
    "ram_list=[4,12,8,8]\n",
    "storage_list=[128,128,64,128]\n",
    "price_list=[900,899,600,1000]"
   ]
  },
  {
   "cell_type": "code",
   "execution_count": 18,
   "id": "2addbe0b-1575-42f7-80b0-f3eb6389e52e",
   "metadata": {},
   "outputs": [
    {
     "name": "stdout",
     "output_type": "stream",
     "text": [
      "RAM List: [4, 12, 8, 8]\n",
      "Storage List: [128, 128, 64, 128]\n",
      "price List: [900, 899, 600, 1000]\n"
     ]
    }
   ],
   "source": [
    "#print the list created\n",
    "print(\"RAM List:\",ram_list)\n",
    "print(\"Storage List:\",storage_list)\n",
    "print(\"price List:\",price_list)\n"
   ]
  },
  {
   "cell_type": "markdown",
   "id": "e7704adf-9b25-483a-9230-ce6934faf3a8",
   "metadata": {},
   "source": [
    "# 1) How many records are stored in brand_list"
   ]
  },
  {
   "cell_type": "code",
   "execution_count": 20,
   "id": "e5d888ed-86a8-447a-9a1a-872d8909869d",
   "metadata": {},
   "outputs": [
    {
     "data": {
      "text/plain": [
       "4"
      ]
     },
     "execution_count": 20,
     "metadata": {},
     "output_type": "execute_result"
    }
   ],
   "source": [
    "#len() get the count of element in the list\n",
    "len(brand_list)"
   ]
  },
  {
   "cell_type": "markdown",
   "id": "944f8a0f-0ab0-4858-85c3-1baddd69e0d1",
   "metadata": {},
   "source": [
    "# 2) Find minimum and maximum price among mobile phone sold by store"
   ]
  },
  {
   "cell_type": "code",
   "execution_count": 26,
   "id": "50950b50-031b-411c-9a3a-415c2887b742",
   "metadata": {},
   "outputs": [
    {
     "name": "stdout",
     "output_type": "stream",
     "text": [
      "min price is $600\n",
      "maximum price is $1000\n"
     ]
    }
   ],
   "source": [
    "min_Price= min(price_list)\n",
    "print(\"min price is $\",min_Price,sep=\"\")\n",
    "max_Price=max(price_list)\n",
    "print(\"maximum price is $\",max_Price,sep=\"\")\n"
   ]
  },
  {
   "cell_type": "markdown",
   "id": "1b219e2a-72fa-4d5f-b76c-9f8529f3121c",
   "metadata": {},
   "source": [
    "# 3) Print 3 rd item in the ram_list"
   ]
  },
  {
   "cell_type": "code",
   "execution_count": 29,
   "id": "d4e07c39-2470-490c-9db9-f226a61d8604",
   "metadata": {},
   "outputs": [
    {
     "name": "stdout",
     "output_type": "stream",
     "text": [
      "8\n"
     ]
    }
   ],
   "source": [
    "print(ram_list[2])"
   ]
  },
  {
   "cell_type": "markdown",
   "id": "8ad00204-259c-4bd4-9f6c-78ea8307f0c8",
   "metadata": {},
   "source": [
    "# 4)Print first 3 items from price_list"
   ]
  },
  {
   "cell_type": "code",
   "execution_count": 24,
   "id": "f7e180fa-28ee-481b-ab6d-eac31ee5aad2",
   "metadata": {},
   "outputs": [
    {
     "data": {
      "text/plain": [
       "[900, 899, 600]"
      ]
     },
     "execution_count": 24,
     "metadata": {},
     "output_type": "execute_result"
    }
   ],
   "source": [
    "price_list[0:3]"
   ]
  },
  {
   "cell_type": "code",
   "execution_count": 26,
   "id": "ee65f377-49b0-456c-a25b-6caa94098080",
   "metadata": {},
   "outputs": [
    {
     "name": "stdout",
     "output_type": "stream",
     "text": [
      "[900, 899, 600]\n"
     ]
    }
   ],
   "source": [
    "print(price_list[0:3])"
   ]
  },
  {
   "cell_type": "markdown",
   "id": "4d2bcc1c-10c4-478e-80b4-f705af7ad22a",
   "metadata": {},
   "source": [
    "# 5)print the last item from brand_list"
   ]
  },
  {
   "cell_type": "code",
   "execution_count": 30,
   "id": "73a2ae13-37a9-4011-ae30-bbf437bab3a6",
   "metadata": {},
   "outputs": [
    {
     "name": "stdout",
     "output_type": "stream",
     "text": [
      "Apple\n"
     ]
    }
   ],
   "source": [
    "print(brand_list[-1])"
   ]
  },
  {
   "cell_type": "markdown",
   "id": "fe46003f-a113-4952-9570-1c17544e93a7",
   "metadata": {},
   "source": [
    "# pop() -list method that remove the item at the given index & return the removed item .If index is not specified it removes the last item from the list"
   ]
  },
  {
   "cell_type": "markdown",
   "id": "8361e302-d9db-44e7-aa2e-6982f4225f3c",
   "metadata": {},
   "source": [
    "# 6) Remove last item from brand list"
   ]
  },
  {
   "cell_type": "code",
   "execution_count": 38,
   "id": "146c4235-8e2f-4f4a-b8c4-3633842807bd",
   "metadata": {},
   "outputs": [
    {
     "name": "stdout",
     "output_type": "stream",
     "text": [
      "Apple\n"
     ]
    }
   ],
   "source": [
    "print(brand_list.pop())"
   ]
  },
  {
   "cell_type": "code",
   "execution_count": 40,
   "id": "6c6d7c81-6b31-41e3-a59d-d608cf153bdd",
   "metadata": {},
   "outputs": [
    {
     "data": {
      "text/plain": [
       "['Apple', 'Samsung', 'LG']"
      ]
     },
     "execution_count": 40,
     "metadata": {},
     "output_type": "execute_result"
    }
   ],
   "source": [
    "brand_list"
   ]
  },
  {
   "cell_type": "markdown",
   "id": "ecc47cd8-a883-4fe4-a12d-f80e61dedae9",
   "metadata": {},
   "source": [
    "# 7) Insert Motorola to brand list"
   ]
  },
  {
   "cell_type": "code",
   "execution_count": 43,
   "id": "9de790da-df70-4e4d-9ced-9aab7c8b6fd0",
   "metadata": {},
   "outputs": [],
   "source": [
    "brand_list.append(\"Motorola\")"
   ]
  },
  {
   "cell_type": "code",
   "execution_count": 45,
   "id": "e6d79761-dfbe-4eb1-b514-8efdab8d1207",
   "metadata": {},
   "outputs": [
    {
     "name": "stdout",
     "output_type": "stream",
     "text": [
      "['Apple', 'Samsung', 'LG', 'Motorola']\n"
     ]
    }
   ],
   "source": [
    "print(brand_list)"
   ]
  },
  {
   "cell_type": "code",
   "execution_count": 49,
   "id": "f2f9ceb2-f6b1-4de1-bf1c-6e20bc80c075",
   "metadata": {},
   "outputs": [
    {
     "data": {
      "text/plain": [
       "['Apple', 'Samsung', 'LG', 'Apple']"
      ]
     },
     "execution_count": 49,
     "metadata": {},
     "output_type": "execute_result"
    }
   ],
   "source": [
    "#This is how we can override the value of the item at given index\n",
    "brand_list[3]=\"Apple\"\n",
    "brand_list"
   ]
  },
  {
   "cell_type": "code",
   "execution_count": 51,
   "id": "e60cb6db-70e4-44bd-8bb1-c3044bfa9141",
   "metadata": {},
   "outputs": [
    {
     "data": {
      "text/plain": [
       "['Apple', 'Samsung', 'LG', 'Motorola']"
      ]
     },
     "execution_count": 51,
     "metadata": {},
     "output_type": "execute_result"
    }
   ],
   "source": [
    "brand_list[3]=\"Motorola\"\n",
    "brand_list"
   ]
  },
  {
   "cell_type": "markdown",
   "id": "67ca5845-e39c-471f-8817-690055550907",
   "metadata": {},
   "source": [
    "# Tuple - Immutable data structure .Data cannot be modified"
   ]
  },
  {
   "cell_type": "markdown",
   "id": "90141c68-023b-41c2-97fd-0b366b0a7d6d",
   "metadata": {},
   "source": [
    "# 1) Store the storage specification 32,64,128,256 as an Immutable variable"
   ]
  },
  {
   "cell_type": "code",
   "execution_count": 56,
   "id": "f3863494-f8b4-4619-8a1f-4c316257550f",
   "metadata": {},
   "outputs": [],
   "source": [
    "storage=(32,64,128,256)"
   ]
  },
  {
   "cell_type": "code",
   "execution_count": 58,
   "id": "898adbd4-edc8-4082-b568-854c68bd83e5",
   "metadata": {},
   "outputs": [
    {
     "name": "stdout",
     "output_type": "stream",
     "text": [
      "(32, 64, 128, 256)\n"
     ]
    }
   ],
   "source": [
    "print(storage)"
   ]
  },
  {
   "cell_type": "code",
   "execution_count": 60,
   "id": "457ca574-fd9d-46c6-bc0f-663faf00412e",
   "metadata": {},
   "outputs": [
    {
     "data": {
      "text/plain": [
       "tuple"
      ]
     },
     "execution_count": 60,
     "metadata": {},
     "output_type": "execute_result"
    }
   ],
   "source": [
    "#check the type of storage\n",
    "type(storage)"
   ]
  },
  {
   "cell_type": "markdown",
   "id": "a387ed7a-da10-4f29-ac61-271fba40c516",
   "metadata": {},
   "source": [
    "# 2) Print 2nd item in the tuple storage"
   ]
  },
  {
   "cell_type": "code",
   "execution_count": 65,
   "id": "b636febf-db9a-4489-83ce-7b987864077a",
   "metadata": {},
   "outputs": [
    {
     "name": "stdout",
     "output_type": "stream",
     "text": [
      "64\n"
     ]
    }
   ],
   "source": [
    "print(storage[1])"
   ]
  },
  {
   "cell_type": "code",
   "execution_count": 69,
   "id": "a51037ab-1380-4bf8-9666-29b1aa7d2cbc",
   "metadata": {},
   "outputs": [
    {
     "data": {
      "text/plain": [
       "64"
      ]
     },
     "execution_count": 69,
     "metadata": {},
     "output_type": "execute_result"
    }
   ],
   "source": [
    "storage[1] #both give the same result"
   ]
  },
  {
   "cell_type": "code",
   "execution_count": 73,
   "id": "b8301971-cb61-41a5-bd86-b8aa30b956fe",
   "metadata": {},
   "outputs": [
    {
     "ename": "TypeError",
     "evalue": "'tuple' object does not support item assignment",
     "output_type": "error",
     "traceback": [
      "\u001b[0;31m---------------------------------------------------------------------------\u001b[0m",
      "\u001b[0;31mTypeError\u001b[0m                                 Traceback (most recent call last)",
      "Cell \u001b[0;32mIn[73], line 2\u001b[0m\n\u001b[1;32m      1\u001b[0m \u001b[38;5;66;03m#tuple is Immutable .Below code throws an error because we are trying to modify the tuple\u001b[39;00m\n\u001b[0;32m----> 2\u001b[0m storage[\u001b[38;5;241m1\u001b[39m]\u001b[38;5;241m=\u001b[39m\u001b[38;5;241m60\u001b[39m\n",
      "\u001b[0;31mTypeError\u001b[0m: 'tuple' object does not support item assignment"
     ]
    }
   ],
   "source": [
    "#tuple is Immutable .Below code throws an error because we are trying to modify the tuple\n",
    "storage[1]=60"
   ]
  },
  {
   "cell_type": "code",
   "execution_count": null,
   "id": "3c20616f-e3a3-47ff-a58c-28da565282c1",
   "metadata": {},
   "outputs": [],
   "source": []
  }
 ],
 "metadata": {
  "kernelspec": {
   "display_name": "Python [conda env:base] *",
   "language": "python",
   "name": "conda-base-py"
  },
  "language_info": {
   "codemirror_mode": {
    "name": "ipython",
    "version": 3
   },
   "file_extension": ".py",
   "mimetype": "text/x-python",
   "name": "python",
   "nbconvert_exporter": "python",
   "pygments_lexer": "ipython3",
   "version": "3.12.7"
  }
 },
 "nbformat": 4,
 "nbformat_minor": 5
}
