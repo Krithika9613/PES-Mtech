{
 "cells": [
  {
   "cell_type": "code",
   "execution_count": 15,
   "id": "8dbf412c-04b3-4279-a53f-9a5b7cd74461",
   "metadata": {},
   "outputs": [],
   "source": [
    "import numpy as np"
   ]
  },
  {
   "cell_type": "code",
   "execution_count": 1,
   "id": "8fb571a1-b62a-470c-a80c-66bc4d43a523",
   "metadata": {},
   "outputs": [
    {
     "name": "stdout",
     "output_type": "stream",
     "text": [
      "v1: [1. 0. 0.]\n",
      "v2: [0.  0.6 0.8]\n",
      "v3: [ 0.   0.8 -0.6]\n"
     ]
    }
   ],
   "source": [
    "import numpy as np\n",
    "\n",
    "# Define the vectors u1, u2, u3\n",
    "u1 = np.array([2, 0, 0])\n",
    "u2 = np.array([2, 3, 4])\n",
    "u3 = np.array([4, 5, 5])\n",
    "\n",
    "# Apply Gram-Schmidt process to get orthonormal vectors v1, v2, v3\n",
    "\n",
    "# Step 1: Set w1 = u1\n",
    "w1 = u1\n",
    "\n",
    "# Step 2: Make v1 a unit vector in the direction of w1\n",
    "v1 = w1 / np.linalg.norm(w1)\n",
    "\n",
    "# Step 3: Subtract the projection of u2 onto v1 from u2 to get w2\n",
    "w2 = u2 - np.dot(u2, v1) * v1\n",
    "\n",
    "# Step 4: Make v2 a unit vector in the direction of w2\n",
    "v2 = w2 / np.linalg.norm(w2)\n",
    "\n",
    "# Step 5: Subtract the projection of u3 onto v1 and v2 from u3 to get w3\n",
    "w3 = u3 - np.dot(u3, v1) * v1 - np.dot(u3, v2) * v2\n",
    "\n",
    "# Step 6: Make v3 a unit vector in the direction of w3\n",
    "v3 = w3 / np.linalg.norm(w3)\n",
    "\n",
    "# Output the orthonormal vectors\n",
    "print(\"v1:\", v1)\n",
    "print(\"v2:\", v2)\n",
    "print(\"v3:\", v3)"
   ]
  },
  {
   "cell_type": "code",
   "execution_count": 3,
   "id": "8176da8c-aaa5-4961-bfc6-1e17f284c869",
   "metadata": {},
   "outputs": [
    {
     "name": "stdout",
     "output_type": "stream",
     "text": [
      "v1: [0.40824829 0.40824829 0.81649658]\n",
      "v2: [-0.89708523  0.34503278  0.27602622]\n",
      "v3: [ 0.16903085  0.84515425 -0.50709255]\n"
     ]
    }
   ],
   "source": [
    "import numpy as np\n",
    "\n",
    "# Define the vectors u1, u2, u3\n",
    "u1 = np.array([2, 2, 4])\n",
    "u2 = np.array([0, 3, 5])\n",
    "u3 = np.array([0, 4, 5])\n",
    "\n",
    "# Apply Gram-Schmidt process to get orthonormal vectors v1, v2, v3\n",
    "\n",
    "# Step 1: Set w1 = u1\n",
    "w1 = u1\n",
    "\n",
    "# Step 2: Make v1 a unit vector in the direction of w1\n",
    "v1 = w1 / np.linalg.norm(w1)\n",
    "\n",
    "# Step 3: Subtract the projection of u2 onto v1 from u2 to get w2\n",
    "w2 = u2 - np.dot(u2, v1) * v1\n",
    "\n",
    "# Step 4: Make v2 a unit vector in the direction of w2\n",
    "v2 = w2 / np.linalg.norm(w2)\n",
    "\n",
    "# Step 5: Subtract the projection of u3 onto v1 and v2 from u3 to get w3\n",
    "w3 = u3 - np.dot(u3, v1) * v1 - np.dot(u3, v2) * v2\n",
    "\n",
    "# Step 6: Make v3 a unit vector in the direction of w3\n",
    "v3 = w3 / np.linalg.norm(w3)\n",
    "\n",
    "# Output the orthonormal vectors\n",
    "print(\"v1:\", v1)\n",
    "print(\"v2:\", v2)\n",
    "print(\"v3:\", v3)"
   ]
  },
  {
   "cell_type": "code",
   "execution_count": 7,
   "id": "d5a7859c-e2c2-4916-b8dd-f906ee119010",
   "metadata": {},
   "outputs": [],
   "source": [
    "# write a function to create a function for create the array instead of entering manually"
   ]
  },
  {
   "cell_type": "code",
   "execution_count": 9,
   "id": "ef84b22d-3871-416c-8dd1-6f27822eb2cc",
   "metadata": {},
   "outputs": [
    {
     "name": "stdin",
     "output_type": "stream",
     "text": [
      "Enter the number of vectors:  3\n",
      "Enter the components of vector 1 separated by spaces:  5 7 8\n",
      "Enter the components of vector 2 separated by spaces:  3 4 5\n",
      "Enter the components of vector 3 separated by spaces:  9 8 7\n"
     ]
    },
    {
     "name": "stdout",
     "output_type": "stream",
     "text": [
      "\n",
      "Input vectors:\n",
      "u1: [5. 7. 8.]\n",
      "u2: [3. 4. 5.]\n",
      "u3: [9. 8. 7.]\n",
      "\n",
      "Orthonormal vectors:\n",
      "v1: [0.42562827 0.59587957 0.68100522]\n",
      "v2: [-0.02566635 -0.74432415  0.6673251 ]\n",
      "v3: [ 0.90453403 -0.30151134 -0.30151134]\n"
     ]
    }
   ],
   "source": [
    "import numpy as np\n",
    "\n",
    "def create_vectors():\n",
    "    \"\"\"\n",
    "    Function to create an array of vectors dynamically based on user input.\n",
    "    \"\"\"\n",
    "    num_vectors = int(input(\"Enter the number of vectors: \"))\n",
    "    vectors = []\n",
    "    for i in range(num_vectors):\n",
    "        vector = input(f\"Enter the components of vector {i + 1} separated by spaces: \")\n",
    "        vectors.append(np.array([float(x) for x in vector.split()]))\n",
    "    return vectors\n",
    "\n",
    "# Gram-Schmidt process function\n",
    "def gram_schmidt(vectors):\n",
    "    \"\"\"\n",
    "    Perform the Gram-Schmidt process to generate orthonormal vectors.\n",
    "    \"\"\"\n",
    "    orthonormal_vectors = []\n",
    "    for i, u in enumerate(vectors):\n",
    "        # Start with the current vector\n",
    "        w = u.copy()\n",
    "        # Subtract projections onto all previous orthonormal vectors\n",
    "        for v in orthonormal_vectors:\n",
    "            w -= np.dot(u, v) * v\n",
    "        # Normalize to create the orthonormal vector\n",
    "        v_normalized = w / np.linalg.norm(w)\n",
    "        orthonormal_vectors.append(v_normalized)\n",
    "    return orthonormal_vectors\n",
    "\n",
    "# Main program\n",
    "if __name__ == \"__main__\":\n",
    "    # Create vectors dynamically\n",
    "    vectors = create_vectors()\n",
    "    print(\"\\nInput vectors:\")\n",
    "    for i, vec in enumerate(vectors):\n",
    "        print(f\"u{i + 1}: {vec}\")\n",
    "    \n",
    "    # Perform Gram-Schmidt process\n",
    "    orthonormal_vectors = gram_schmidt(vectors)\n",
    "    print(\"\\nOrthonormal vectors:\")\n",
    "    for i, vec in enumerate(orthonormal_vectors):\n",
    "        print(f\"v{i + 1}: {vec}\")"
   ]
  },
  {
   "cell_type": "code",
   "execution_count": 11,
   "id": "5a557467-4a86-482c-a08e-c29ed6acd1cb",
   "metadata": {},
   "outputs": [
    {
     "name": "stdin",
     "output_type": "stream",
     "text": [
      "Enter the number of random vectors to generate:  4\n",
      "Enter the dimension of the vectors:  4\n"
     ]
    },
    {
     "name": "stdout",
     "output_type": "stream",
     "text": [
      "\n",
      "Randomly generated vectors:\n",
      "u1: [ 4.80972673 -9.39961579  8.28744129 -5.2759655 ]\n",
      "u2: [-8.67639648  7.64109129 -8.59669708 -1.71753968]\n",
      "u3: [-0.13240333 -8.43785265 -0.3586551   5.61439086]\n",
      "u4: [ 5.06310808 -2.0450431  -9.02006336 -8.92580256]\n",
      "\n",
      "Orthonormal vectors:\n",
      "v1: [ 0.33349154 -0.65174023  0.57462549 -0.3658191 ]\n",
      "v2: [-0.58561982 -0.0381399  -0.20247432 -0.7839636 ]\n",
      "v3: [-0.39821229 -0.74031533 -0.34030401  0.42137082]\n",
      "v4: [ 0.62230201 -0.16035348 -0.71624219 -0.27207369]\n"
     ]
    }
   ],
   "source": [
    "import numpy as np\n",
    "\n",
    "def create_random_vectors(num_vectors, dimension=3, range_min=-10, range_max=10):\n",
    "    \"\"\"\n",
    "    Function to create an array of random vectors.\n",
    "    \n",
    "    Parameters:\n",
    "        num_vectors (int): Number of vectors to generate.\n",
    "        dimension (int): Dimension of each vector (default is 3).\n",
    "        range_min (int): Minimum value for random numbers (default is -10).\n",
    "        range_max (int): Maximum value for random numbers (default is 10).\n",
    "        \n",
    "    Returns:\n",
    "        list: A list of NumPy arrays representing the random vectors.\n",
    "    \"\"\"\n",
    "    vectors = []\n",
    "    for _ in range(num_vectors):\n",
    "        vector = np.random.uniform(range_min, range_max, dimension)\n",
    "        vectors.append(vector)\n",
    "    return vectors\n",
    "\n",
    "def gram_schmidt(vectors):\n",
    "    \"\"\"\n",
    "    Perform the Gram-Schmidt process to generate orthonormal vectors.\n",
    "    \n",
    "    Parameters:\n",
    "        vectors (list): List of input vectors (NumPy arrays).\n",
    "    \n",
    "    Returns:\n",
    "        list: A list of orthonormal vectors.\n",
    "    \"\"\"\n",
    "    orthonormal_vectors = []\n",
    "    for u in vectors:\n",
    "        # Start with the current vector\n",
    "        w = u.copy()\n",
    "        # Subtract projections onto all previous orthonormal vectors\n",
    "        for v in orthonormal_vectors:\n",
    "            w -= np.dot(u, v) * v\n",
    "        # Normalize to create the orthonormal vector\n",
    "        v_normalized = w / np.linalg.norm(w)\n",
    "        orthonormal_vectors.append(v_normalized)\n",
    "    return orthonormal_vectors\n",
    "\n",
    "# Main program\n",
    "if __name__ == \"__main__\":\n",
    "    # Input: number of vectors to generate\n",
    "    num_vectors = int(input(\"Enter the number of random vectors to generate: \"))\n",
    "    dimension = int(input(\"Enter the dimension of the vectors: \"))\n",
    "    \n",
    "    # Generate random vectors\n",
    "    vectors = create_random_vectors(num_vectors, dimension)\n",
    "    print(\"\\nRandomly generated vectors:\")\n",
    "    for i, vec in enumerate(vectors):\n",
    "        print(f\"u{i + 1}: {vec}\")\n",
    "    \n",
    "    # Perform Gram-Schmidt process\n",
    "    orthonormal_vectors = gram_schmidt(vectors)\n",
    "    print(\"\\nOrthonormal vectors:\")\n",
    "    for i, vec in enumerate(orthonormal_vectors):\n",
    "        print(f\"v{i + 1}: {vec}\")"
   ]
  },
  {
   "cell_type": "markdown",
   "id": "3c774f76-bd89-4174-b5c4-7cf34d22e094",
   "metadata": {},
   "source": [
    "## **Matrix"
   ]
  },
  {
   "cell_type": "code",
   "execution_count": 19,
   "id": "450aa9e4-cc5f-4a06-9650-89654bfef12a",
   "metadata": {},
   "outputs": [
    {
     "data": {
      "text/plain": [
       "array([[1, 2, 3],\n",
       "       [4, 5, 6]])"
      ]
     },
     "execution_count": 19,
     "metadata": {},
     "output_type": "execute_result"
    }
   ],
   "source": [
    "A=np.array([[1,2,3],[4,5,6]])\n",
    "A"
   ]
  },
  {
   "cell_type": "code",
   "execution_count": 21,
   "id": "94c2d0b5-51a8-4b89-89d1-dbdf1716886e",
   "metadata": {},
   "outputs": [
    {
     "data": {
      "text/plain": [
       "(2, 3)"
      ]
     },
     "execution_count": 21,
     "metadata": {},
     "output_type": "execute_result"
    }
   ],
   "source": [
    "A.shape"
   ]
  },
  {
   "cell_type": "code",
   "execution_count": 23,
   "id": "5af2a965-1c32-47c3-9c09-99a1fbe5b56d",
   "metadata": {},
   "outputs": [
    {
     "data": {
      "text/plain": [
       "array([1, 2, 3])"
      ]
     },
     "execution_count": 23,
     "metadata": {},
     "output_type": "execute_result"
    }
   ],
   "source": [
    "A[0]"
   ]
  },
  {
   "cell_type": "code",
   "execution_count": 25,
   "id": "2781b8ad-4697-4719-a4d4-171238d1a719",
   "metadata": {},
   "outputs": [
    {
     "data": {
      "text/plain": [
       "array([4, 5, 6])"
      ]
     },
     "execution_count": 25,
     "metadata": {},
     "output_type": "execute_result"
    }
   ],
   "source": [
    "A[1]"
   ]
  },
  {
   "cell_type": "code",
   "execution_count": 28,
   "id": "3a81be0f-f271-4500-ac31-8d08cc1ee410",
   "metadata": {},
   "outputs": [],
   "source": [
    "A=np.array([[1,2,3], [6,7,8]])"
   ]
  },
  {
   "cell_type": "code",
   "execution_count": 30,
   "id": "47d2c27e-8ff6-4a48-b526-3e8ab7457717",
   "metadata": {},
   "outputs": [
    {
     "data": {
      "text/plain": [
       "array([[1, 2, 3],\n",
       "       [6, 7, 8]])"
      ]
     },
     "execution_count": 30,
     "metadata": {},
     "output_type": "execute_result"
    }
   ],
   "source": [
    "A"
   ]
  },
  {
   "cell_type": "code",
   "execution_count": 34,
   "id": "5ff40fbd-c8c1-4890-a504-f20d79820514",
   "metadata": {},
   "outputs": [],
   "source": [
    "AT = np.transpose(A)"
   ]
  },
  {
   "cell_type": "code",
   "execution_count": 36,
   "id": "0f67bb76-9597-4144-a2ca-b912d073a0b5",
   "metadata": {},
   "outputs": [
    {
     "data": {
      "text/plain": [
       "array([[1, 6],\n",
       "       [2, 7],\n",
       "       [3, 8]])"
      ]
     },
     "execution_count": 36,
     "metadata": {},
     "output_type": "execute_result"
    }
   ],
   "source": [
    "AT"
   ]
  },
  {
   "cell_type": "code",
   "execution_count": 38,
   "id": "59525df2-26e4-4b18-9701-03e9db9fd985",
   "metadata": {},
   "outputs": [],
   "source": [
    "AT_T=np.array(np.array(A))"
   ]
  },
  {
   "cell_type": "code",
   "execution_count": 40,
   "id": "dc8f675d-bf69-46c8-8000-31fa0a18f3c2",
   "metadata": {},
   "outputs": [
    {
     "data": {
      "text/plain": [
       "array([[1, 2, 3],\n",
       "       [6, 7, 8]])"
      ]
     },
     "execution_count": 40,
     "metadata": {},
     "output_type": "execute_result"
    }
   ],
   "source": [
    "AT_T"
   ]
  },
  {
   "cell_type": "code",
   "execution_count": 68,
   "id": "e73135ca-a6d4-4a9c-a0e8-208f900f1af8",
   "metadata": {},
   "outputs": [
    {
     "name": "stdout",
     "output_type": "stream",
     "text": [
      "[[0. 0. 0.]\n",
      " [0. 0. 0.]\n",
      " [0. 0. 0.]]\n"
     ]
    }
   ],
   "source": [
    "O = np.zeros((3, 3))\n",
    "print(O)"
   ]
  },
  {
   "cell_type": "code",
   "execution_count": 74,
   "id": "05ea3cd9-45ad-42ce-a758-2841c5c20abb",
   "metadata": {},
   "outputs": [
    {
     "data": {
      "text/plain": [
       "array([[1, 0, 0],\n",
       "       [0, 2, 0],\n",
       "       [0, 0, 3]])"
      ]
     },
     "execution_count": 74,
     "metadata": {},
     "output_type": "execute_result"
    }
   ],
   "source": [
    "D=np.diag([1,2,3])\n",
    "D"
   ]
  },
  {
   "cell_type": "code",
   "execution_count": 78,
   "id": "d7e030c0-0114-49f3-9fc8-1f5bd56674f7",
   "metadata": {},
   "outputs": [
    {
     "data": {
      "text/plain": [
       "array([[1., 0., 0.],\n",
       "       [0., 1., 0.],\n",
       "       [0., 0., 1.]])"
      ]
     },
     "execution_count": 78,
     "metadata": {},
     "output_type": "execute_result"
    }
   ],
   "source": [
    "IM = np.eye(3)\n",
    "IM"
   ]
  },
  {
   "cell_type": "code",
   "execution_count": 84,
   "id": "4651edfd-75f6-444c-8662-66521ba6e094",
   "metadata": {},
   "outputs": [
    {
     "data": {
      "text/plain": [
       "array([[1, 2, 3],\n",
       "       [0, 5, 6],\n",
       "       [0, 0, 9]])"
      ]
     },
     "execution_count": 84,
     "metadata": {},
     "output_type": "execute_result"
    }
   ],
   "source": [
    "A=np.triu(np.array([[1,2,3],[4,5,6],[7,8,9]]))\n",
    "A"
   ]
  },
  {
   "cell_type": "code",
   "execution_count": 86,
   "id": "9ad0f891-f101-4631-b8af-292cca66cf5d",
   "metadata": {},
   "outputs": [
    {
     "data": {
      "text/plain": [
       "array([[1, 0, 0],\n",
       "       [4, 5, 0],\n",
       "       [7, 8, 9]])"
      ]
     },
     "execution_count": 86,
     "metadata": {},
     "output_type": "execute_result"
    }
   ],
   "source": [
    "A=np.tril(np.array([[1,2,3],[4,5,6],[7,8,9]]))\n",
    "A"
   ]
  },
  {
   "cell_type": "code",
   "execution_count": 90,
   "id": "2e80411f-9b57-4720-890c-2c73f42868c0",
   "metadata": {},
   "outputs": [
    {
     "name": "stdout",
     "output_type": "stream",
     "text": [
      "True\n"
     ]
    }
   ],
   "source": [
    "#symmnetric\n",
    "def is_symmetric(matrix):\n",
    "    return np.array_equal(matrix, matrix.T)\n",
    "\n",
    "matrix=np.array([[1,2,3],[2,4,5],[3,5,6]])\n",
    "result=is_symmetric(matrix)\n",
    "\n",
    "print(result)\n"
   ]
  },
  {
   "cell_type": "code",
   "execution_count": 92,
   "id": "ab00eaf8-9b31-42d7-a5d6-a26529aaa42e",
   "metadata": {},
   "outputs": [
    {
     "name": "stdout",
     "output_type": "stream",
     "text": [
      "Matrix A:\n",
      "[[ 0  2 -3]\n",
      " [-2  0  4]\n",
      " [ 3 -4  0]]\n",
      "\n",
      "Is A anti-symmetric? True\n"
     ]
    }
   ],
   "source": [
    "# Define a 3x3 anti-symmetric matrix\n",
    "A = np.array([\n",
    "    [0,  2, -3],\n",
    "    [-2, 0,  4],\n",
    "    [3, -4,  0]\n",
    "])\n",
    "\n",
    "# Check if the matrix is anti-symmetric\n",
    "is_anti_symmetric = np.all(A.T == -A)\n",
    "\n",
    "print(\"Matrix A:\")\n",
    "print(A)\n",
    "print(\"\\nIs A anti-symmetric?\", is_anti_symmetric)"
   ]
  },
  {
   "cell_type": "code",
   "execution_count": 94,
   "id": "65c406d6-495b-4d19-8b2c-136a558ae89b",
   "metadata": {},
   "outputs": [
    {
     "name": "stdout",
     "output_type": "stream",
     "text": [
      "Row-Echelon Matrix:\n",
      "[[1 2 3 4]\n",
      " [0 5 6 7]\n",
      " [0 0 8 9]]\n"
     ]
    }
   ],
   "source": [
    "def create_row_echelon():\n",
    "    \"\"\"\n",
    "    Create a sample row-echelon matrix.\n",
    "    \"\"\"\n",
    "    A = np.array([\n",
    "        [1, 2, 3, 4],\n",
    "        [0, 5, 6, 7],\n",
    "        [0, 0, 8, 9]\n",
    "    ])\n",
    "    return A\n",
    "\n",
    "# Create and print the row-echelon matrix\n",
    "A = create_row_echelon()\n",
    "print(\"Row-Echelon Matrix:\")\n",
    "print(A)"
   ]
  },
  {
   "cell_type": "code",
   "execution_count": 96,
   "id": "82fb5b75-4904-4ca1-a54c-52cc1ce820d9",
   "metadata": {},
   "outputs": [
    {
     "name": "stdout",
     "output_type": "stream",
     "text": [
      "Additive Identity (A): [[1. 2.]\n",
      " [3. 4.]]\n",
      "Additive Identity (B): [[5. 6.]\n",
      " [7. 8.]]\n",
      "Commutativity of Addition: True\n",
      "Associativity of Addition: True\n",
      "\n",
      "Multiplicative Identity (A): [[ 3  6]\n",
      " [ 9 12]]\n",
      "Distributive Property (Scalar Sum): True\n",
      "Distributive Property (Scalar Difference): True\n",
      "Distributive Property (Vector Sum): True\n",
      "Associative Property (Scalar Multiplication): True\n"
     ]
    }
   ],
   "source": [
    "# Define two matrices A and B\n",
    "A = np.array([[1, 2], [3, 4]])\n",
    "B = np.array([[5, 6], [7, 8]])\n",
    "\n",
    "# Define a scalar c\n",
    "c = 3\n",
    "\n",
    "# Test the properties of addition\n",
    "additive_identity_A = A + np.zeros(A.shape)  # A + 0 = A\n",
    "additive_identity_B = B + np.zeros(B.shape)  # B + 0 = B\n",
    "\n",
    "commutativity = np.array_equal(A + B, B + A)  # A + B = B + A\n",
    "associativity = np.array_equal(A + (B + A), (A + B) + A)  # (A + B) + A = A + (B + A)\n",
    "\n",
    "# Test the properties of scalar multiplication\n",
    "multiplicative_identity_A = c * A  # cA\n",
    "\n",
    "distributive_scalar_sum = np.array_equal(c * (A + B), c * A + c * B)  # c(A + B) = cA + cB\n",
    "distributive_scalar_diff = np.array_equal(c * (A - B), c * A - c * B)  # c(A - B) = cA - cB\n",
    "distributive_vector_sum = np.array_equal((c + c) * A, c * A + c * A)  # (c + c)A = cA + cA\n",
    "associative_scalar_mult = np.array_equal(c * (c * A), (c * c) * A)  # c(cA) = (cc)A\n",
    "\n",
    "# Print results\n",
    "print(\"Additive Identity (A):\", additive_identity_A)\n",
    "print(\"Additive Identity (B):\", additive_identity_B)\n",
    "print(\"Commutativity of Addition:\", commutativity)\n",
    "print(\"Associativity of Addition:\", associativity)\n",
    "\n",
    "print(\"\\nMultiplicative Identity (A):\", multiplicative_identity_A)\n",
    "print(\"Distributive Property (Scalar Sum):\", distributive_scalar_sum)\n",
    "print(\"Distributive Property (Scalar Difference):\", distributive_scalar_diff)\n",
    "print(\"Distributive Property (Vector Sum):\", distributive_vector_sum)\n",
    "print(\"Associative Property (Scalar Multiplication):\", associative_scalar_mult)"
   ]
  },
  {
   "cell_type": "code",
   "execution_count": 118,
   "id": "f9ad10db-6d9b-4800-9f8f-a3f401f524d9",
   "metadata": {},
   "outputs": [
    {
     "name": "stdout",
     "output_type": "stream",
     "text": [
      "Print number of Coulmns (A): 3\n",
      "Print number of row of (B): 3\n"
     ]
    },
    {
     "data": {
      "text/plain": [
       "array([[23, 34, 56],\n",
       "       [31, 46, 76],\n",
       "       [10, 14, 22]])"
      ]
     },
     "execution_count": 118,
     "metadata": {},
     "output_type": "execute_result"
    }
   ],
   "source": [
    "# Matrix Multiplication\n",
    "A = np.array([[1, 2, 4], [3, 4, 6]])\n",
    "print(\"Print number of Coulmns (A):\", A.shape[1])\n",
    "B = np.array([[5, 6], [7, 8], [1,3]])\n",
    "print(\"Print number of row of (B):\", B.shape[0])\n",
    "\n",
    "result=np.dot(B, A)\n",
    "result"
   ]
  },
  {
   "cell_type": "code",
   "execution_count": null,
   "id": "0f40e9b6-51e0-437b-9164-754ec5947328",
   "metadata": {},
   "outputs": [],
   "source": []
  }
 ],
 "metadata": {
  "kernelspec": {
   "display_name": "Python 3 (ipykernel)",
   "language": "python",
   "name": "python3"
  },
  "language_info": {
   "codemirror_mode": {
    "name": "ipython",
    "version": 3
   },
   "file_extension": ".py",
   "mimetype": "text/x-python",
   "name": "python",
   "nbconvert_exporter": "python",
   "pygments_lexer": "ipython3",
   "version": "3.12.4"
  }
 },
 "nbformat": 4,
 "nbformat_minor": 5
}
