{
 "cells": [
  {
   "cell_type": "code",
   "execution_count": 1,
   "id": "e97123d1-b3f8-4119-a9b4-4aa3e097ede6",
   "metadata": {},
   "outputs": [],
   "source": [
    "import numpy as np"
   ]
  },
  {
   "cell_type": "code",
   "execution_count": 5,
   "id": "536c86f9-03ce-419b-a236-d6fb20386bcb",
   "metadata": {},
   "outputs": [
    {
     "name": "stdout",
     "output_type": "stream",
     "text": [
      "Input Matrix:\n",
      "[[1 2 3 0]\n",
      " [4 5 6 1]\n",
      " [7 8 9 2]\n",
      " [0 1 2 3]]\n",
      "\n",
      "Kernel:\n",
      "[[ 1  0]\n",
      " [ 0 -1]]\n",
      "\n",
      "Resulting Matrix after Convolution:\n",
      "[[-4. -4.  2.]\n",
      " [-4. -4.  4.]\n",
      " [ 6.  6.  6.]]\n"
     ]
    }
   ],
   "source": [
    "def convolution_2d(input_matrix, kernel):\n",
    "    \"\"\"\n",
    "    Perform a 2D convolution operation on the input_matrix using the given kernel.\n",
    "    \n",
    "    Parameters:\n",
    "        input_matrix (numpy.ndarray): The input 2D matrix.\n",
    "        kernel (numpy.ndarray): The 2D kernel matrix.\n",
    "    \n",
    "    Returns:\n",
    "        numpy.ndarray: The resulting matrix after convolution.\n",
    "    \"\"\"\n",
    "    input_rows, input_cols = input_matrix.shape\n",
    "    kernel_rows, kernel_cols = kernel.shape\n",
    "    \n",
    "    # Calculate the dimensions of the output matrix\n",
    "    output_rows = input_rows - kernel_rows + 1\n",
    "    output_cols = input_cols - kernel_cols + 1\n",
    "\n",
    "    #Initialize the output matrix\n",
    "    output_matrix = np.zeros((output_rows, output_cols))\n",
    "    \n",
    "    # Perform the convolution\n",
    "    #for i in range(output_rows):\n",
    "        #for j in range(output_cols):\n",
    "            # Extract the region of the input matrix corresponding to the kernel size\n",
    "            #region = input_matrix[i:i + kernel_rows, j:j + kernel_cols]\n",
    "            # Perform element-wise multiplication and sum the result\n",
    "            #output_matrix[i, j] = np.sum(region * kernel)\n",
    "    \n",
    "    #return output_matrix\n",
    "\n",
    "\n",
    "    for i in range(output_rows):\n",
    "        for j in range(output_cols):\n",
    "            summation = 0\n",
    "            for m in range(kernel_rows):\n",
    "                for n in range(kernel_cols):\n",
    "                    summation += input_matrix[i+m, j+n] * kernel[m,n]\n",
    "                output_matrix[i, j] = summation    \n",
    "    return output_matrix\n",
    "\n",
    "# Example usage\n",
    "if __name__ == \"__main__\":\n",
    "    input_matrix = np.array([\n",
    "        [1, 2, 3, 0],\n",
    "        [4, 5, 6, 1],\n",
    "        [7, 8, 9, 2],\n",
    "        [0, 1, 2, 3]\n",
    "    ])\n",
    "    \n",
    "    kernel = np.array([\n",
    "        [1, 0],\n",
    "        [0, -1]\n",
    "    ])\n",
    "    \n",
    "    result = convolution_2d(input_matrix, kernel)\n",
    "    print(\"Input Matrix:\")\n",
    "    print(input_matrix)\n",
    "    print(\"\\nKernel:\")\n",
    "    print(kernel)\n",
    "    print(\"\\nResulting Matrix after Convolution:\")\n",
    "    print(result)"
   ]
  },
  {
   "cell_type": "code",
   "execution_count": 7,
   "id": "287073bd-03d0-43b4-a47c-9ad291f3ac17",
   "metadata": {},
   "outputs": [
    {
     "data": {
      "image/png": "[encoded data removed]",
      "text/plain": [
       "<Figure size 1000x500 with 2 Axes>"
      ]
     },
     "metadata": {},
     "output_type": "display_data"
    }
   ],
   "source": [
    "import numpy as np\n",
    "import matplotlib.pyplot as plt\n",
    "from scipy.ndimage import convolve\n",
    "\n",
    "# Example input matrix (grayscale image)\n",
    "input_matrix = np.array([\n",
    "    [100, 100, 100, 100],\n",
    "    [100, 50, 50, 100],\n",
    "    [100, 0, 0, 100],\n",
    "    [100, 100, 100, 100]\n",
    "], dtype=np.float32)\n",
    "\n",
    "# Sobel vertical edge detection kernel\n",
    "sobel_vertical_kernel = np.array([\n",
    "    [-1, 0, 1],\n",
    "    [-2, 0, 2],\n",
    "    [-1, 0, 1]\n",
    "])\n",
    "\n",
    "# Apply convolution\n",
    "vertical_edges = convolve(input_matrix, sobel_vertical_kernel)\n",
    "\n",
    "# Plotting\n",
    "fig, axes = plt.subplots(1, 2, figsize=(10, 5))\n",
    "\n",
    "# Original matrix\n",
    "axes[0].imshow(input_matrix, cmap='gray', interpolation='none')\n",
    "axes[0].set_title(\"Original Matrix\")\n",
    "axes[0].axis('off')\n",
    "\n",
    "# Vertical edges detected\n",
    "axes[1].imshow(vertical_edges, cmap='gray', interpolation='none')\n",
    "axes[1].set_title(\"Vertical Edges\")\n",
    "axes[1].axis('off')\n",
    "\n",
    "plt.tight_layout()\n",
    "plt.show()"
   ]
  },
  {
   "cell_type": "code",
   "execution_count": 9,
   "id": "fda9dd98-3089-44ae-b369-071b218ea2e0",
   "metadata": {},
   "outputs": [],
   "source": [
    "#Determinant Matrix"
   ]
  },
  {
   "cell_type": "code",
   "execution_count": 17,
   "id": "58c950cf-83f9-4657-98c4-098be60c117b",
   "metadata": {},
   "outputs": [
    {
     "name": "stdout",
     "output_type": "stream",
     "text": [
      "2.0000000000000004\n"
     ]
    }
   ],
   "source": [
    "A=np.array([[1,3,-2],[2,7,-3],[3,8,-5]])\n",
    "D=np.linalg.det(A)\n",
    "print(D)"
   ]
  },
  {
   "cell_type": "code",
   "execution_count": 19,
   "id": "2e0c049f-e343-4871-bba9-db0a65f9a728",
   "metadata": {},
   "outputs": [],
   "source": [
    "#Minor and cofactor"
   ]
  },
  {
   "cell_type": "code",
   "execution_count": 21,
   "id": "666bf9bb-97c0-4c85-a833-fb8a8431174c",
   "metadata": {},
   "outputs": [
    {
     "name": "stdout",
     "output_type": "stream",
     "text": [
      "Minor of A[0,0]: -2.9999999999999996\n",
      "Cofactor of A[0,0]: -2.9999999999999996\n"
     ]
    }
   ],
   "source": [
    "def minor(matrix, i, j):\n",
    "    # Remove the i-th row and j-th column\n",
    "    submatrix = np.delete(np.delete(matrix, i, axis=0), j, axis=1)\n",
    "    return np.linalg.det(submatrix)\n",
    "\n",
    "def cofactor(matrix, i, j):\n",
    "    # Cofactor is the minor multiplied by (-1)^(i+j)\n",
    "    return (-1) ** (i + j) * minor(matrix, i, j)\n",
    "\n",
    "# Example matrix\n",
    "A = np.array([[1, 2, 3],\n",
    "              [4, 5, 6],\n",
    "              [7, 8, 9]])\n",
    "\n",
    "# Calculate minor and cofactor for element A[0, 0] (1st row, 1st column)\n",
    "minor_11 = minor(A, 0, 0)\n",
    "cofactor_11 = cofactor(A, 0, 0)\n",
    "\n",
    "print(f\"Minor of A[0,0]: {minor_11}\")\n",
    "print(f\"Cofactor of A[0,0]: {cofactor_11}\")"
   ]
  },
  {
   "cell_type": "code",
   "execution_count": 23,
   "id": "c90c07fb-c2ee-44b9-8957-4ade25ac2edf",
   "metadata": {},
   "outputs": [
    {
     "name": "stdout",
     "output_type": "stream",
     "text": [
      "Original Matrix A:\n",
      "[[ 1  2  1]\n",
      " [ 2 -1  0]\n",
      " [ 0  3  1]]\n",
      "\n",
      "Minor Matrix:\n",
      "[[-1.  2.  6.]\n",
      " [-1.  1.  3.]\n",
      " [ 1. -2. -5.]]\n",
      "\n",
      "Cofactor Matrix:\n",
      "[[-1. -2.  6.]\n",
      " [ 1.  1. -3.]\n",
      " [ 1.  2. -5.]]\n",
      "\n",
      "Adjoint Matrix:\n",
      "[[-1.  1.  1.]\n",
      " [-2.  1.  2.]\n",
      " [ 6. -3. -5.]]\n"
     ]
    }
   ],
   "source": [
    "def minor(matrix, i, j):\n",
    "    \"\"\"\n",
    "    Calculate the minor of the element at position (i, j).\n",
    "    \"\"\"\n",
    "    submatrix = np.delete(np.delete(matrix, i, axis=0), j, axis=1)\n",
    "    return np.linalg.det(submatrix)\n",
    "\n",
    "def cofactor(matrix):\n",
    "    \"\"\"\n",
    "    Calculate the cofactor matrix.\n",
    "    \"\"\"\n",
    "    n = matrix.shape[0]\n",
    "    cofactor_matrix = np.zeros((n, n))\n",
    "    for i in range(n):\n",
    "        for j in range(n):\n",
    "            cofactor_matrix[i, j] = (-1) ** (i + j) * minor(matrix, i, j)\n",
    "    return cofactor_matrix\n",
    "\n",
    "def adjoint(matrix):\n",
    "    \"\"\"\n",
    "    Calculate the adjoint matrix (transpose of the cofactor matrix).\n",
    "    \"\"\"\n",
    "    cofactor_matrix = cofactor(matrix)\n",
    "    return cofactor_matrix.T\n",
    "\n",
    "# Example matrix\n",
    "A = np.array([[1, 2, 1],\n",
    "              [2, -1, 0],\n",
    "              [0, 3, 1]])\n",
    "\n",
    "# Calculate minor, cofactor, and adjoint matrices\n",
    "minor_matrix = np.array([[minor(A, i, j) for j in range(A.shape[1])] for i in range(A.shape[0])])\n",
    "cofactor_matrix = cofactor(A)\n",
    "adjoint_matrix = adjoint(A)\n",
    "\n",
    "print(\"Original Matrix A:\")\n",
    "print(A)\n",
    "\n",
    "print(\"\\nMinor Matrix:\")\n",
    "print(minor_matrix)\n",
    "\n",
    "print(\"\\nCofactor Matrix:\")\n",
    "print(cofactor_matrix)\n",
    "\n",
    "print(\"\\nAdjoint Matrix:\")\n",
    "print(adjoint_matrix)"
   ]
  },
  {
   "cell_type": "code",
   "execution_count": 25,
   "id": "fb8df6ea-4844-417d-ab05-e38b506d3ee2",
   "metadata": {},
   "outputs": [
    {
     "name": "stdout",
     "output_type": "stream",
     "text": [
      "Inverse of the matrix A:\n",
      "[[-1.  1.  1.]\n",
      " [-2.  1.  2.]\n",
      " [ 6. -3. -5.]]\n"
     ]
    }
   ],
   "source": [
    "# Define the matrix\n",
    "A = np.array([[1, 2, 1],\n",
    "              [2, -1, 0],\n",
    "              [0, 3, 1]])\n",
    "\n",
    "# Compute the inverse\n",
    "try:\n",
    "    A_inv = np.linalg.inv(A)\n",
    "    print(\"Inverse of the matrix A:\")\n",
    "    print(A_inv)\n",
    "except np.linalg.LinAlgError:\n",
    "    print(\"Matrix A is singular and cannot be inverted.\")"
   ]
  },
  {
   "cell_type": "code",
   "execution_count": 27,
   "id": "a4e7804b-1677-4474-8ac6-91efdb29a3ed",
   "metadata": {},
   "outputs": [
    {
     "name": "stdout",
     "output_type": "stream",
     "text": [
      "Inverse of the matrix A:\n",
      "[[-1.  1.  1.]\n",
      " [-2.  1.  2.]\n",
      " [ 6. -3. -5.]]\n"
     ]
    }
   ],
   "source": [
    "# Define the matrix\n",
    "A = np.array([[1, 2, 1],\n",
    "              [2, -1, 0],\n",
    "              [0, 3, 1]])\n",
    "\n",
    "# Compute the inverse of the matrix\n",
    "try:\n",
    "    A_inv = np.linalg.inv(A)\n",
    "    print(\"Inverse of the matrix A:\")\n",
    "    print(A_inv)\n",
    "except np.linalg.LinAlgError:\n",
    "    print(\"Matrix A is singular and cannot be inverted.\")"
   ]
  },
  {
   "cell_type": "code",
   "execution_count": null,
   "id": "a142ebc2-1c7c-4133-9efa-18cd9d197e80",
   "metadata": {},
   "outputs": [],
   "source": []
  }
 ],
 "metadata": {
  "kernelspec": {
   "display_name": "Python 3 (ipykernel)",
   "language": "python",
   "name": "python3"
  },
  "language_info": {
   "codemirror_mode": {
    "name": "ipython",
    "version": 3
   },
   "file_extension": ".py",
   "mimetype": "text/x-python",
   "name": "python",
   "nbconvert_exporter": "python",
   "pygments_lexer": "ipython3",
   "version": "3.12.4"
  }
 },
 "nbformat": 4,
 "nbformat_minor": 5
}
