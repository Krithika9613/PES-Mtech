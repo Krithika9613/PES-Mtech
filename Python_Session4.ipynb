{
 "cells": [
  {
   "cell_type": "markdown",
   "id": "ea5d17a6-99a9-498b-9588-5100c8c8985f",
   "metadata": {},
   "source": [
    "# Funtions in Python"
   ]
  },
  {
   "cell_type": "markdown",
   "id": "783fb477-0af3-4629-9b4f-5ffc40bc1eee",
   "metadata": {},
   "source": [
    "# 1) Write a function to display the attributes of the apple iphone"
   ]
  },
  {
   "cell_type": "code",
   "execution_count": 44,
   "id": "b4cf2786-b76a-4418-a1f6-6a587af79d5f",
   "metadata": {},
   "outputs": [],
   "source": [
    "def display_iphone_attributes():\n",
    "    \"\"\"\n",
    "    This function display\n",
    "    the stored attribute\n",
    "    of the Apple iphone\n",
    "    \"\"\"\n",
    "    price =900\n",
    "    ram =4\n",
    "    storage=128\n",
    "    print(\n",
    "    \"The Apple iPhone has \", ram, \"GB of RAM and\", storage, \"GB of storage and it costs $\", price, sep=\"\") "
   ]
  },
  {
   "cell_type": "markdown",
   "id": "e81ac9a7-190a-497a-8bbe-2676fb5f1789",
   "metadata": {},
   "source": [
    "# How to call function?"
   ]
  },
  {
   "cell_type": "code",
   "execution_count": 35,
   "id": "e241c0f2-f59f-4956-a12a-60717464d58c",
   "metadata": {},
   "outputs": [],
   "source": [
    " #Simply call the function name with the appropriate parameter"
   ]
  },
  {
   "cell_type": "code",
   "execution_count": 46,
   "id": "6da1f603-cd46-4dff-aa9e-290f44ece086",
   "metadata": {},
   "outputs": [
    {
     "name": "stdout",
     "output_type": "stream",
     "text": [
      "The Apple iPhone has 4GB of RAM and128GB of storage and it costs $900\n"
     ]
    }
   ],
   "source": [
    "#call the function display_iphone_attributes\n",
    "display_iphone_attributes()"
   ]
  },
  {
   "cell_type": "markdown",
   "id": "b7a43c3e-7c3e-4160-8a0c-2dd3da3ed2ee",
   "metadata": {},
   "source": [
    "# 2)Write a function to display attributes of the phone"
   ]
  },
  {
   "cell_type": "code",
   "execution_count": 60,
   "id": "f24b115f-5898-42ab-8f37-a252e9f97e40",
   "metadata": {},
   "outputs": [],
   "source": [
    "def display_phone_attributes(brand, price, ram, storage):\n",
    "    \"\"\"\n",
    "    This function display\n",
    "    the stored attribute\n",
    "    of any phone\n",
    "    \"\"\"\n",
    "    print(\n",
    "    \"The \", brand, \" phone has \", ram, \"GB of RAM and \", storage, \"GB of storage and it costs $\", price, sep=\"\") "
   ]
  },
  {
   "cell_type": "code",
   "execution_count": 62,
   "id": "452ed795-9cc0-4f4c-8de9-e9ba24048308",
   "metadata": {},
   "outputs": [
    {
     "name": "stdout",
     "output_type": "stream",
     "text": [
      "The vivo phone has 32GB of RAM and 128GB of storage and it costs $600\n"
     ]
    }
   ],
   "source": [
    "display_phone_attributes(\"vivo\", 600, 32, 128)"
   ]
  },
  {
   "cell_type": "code",
   "execution_count": 64,
   "id": "a3fad875-6c2a-4fb5-8a7e-f5cc40e2aab7",
   "metadata": {},
   "outputs": [
    {
     "ename": "TypeError",
     "evalue": "display_phone_attributes() missing 1 required positional argument: 'storage'",
     "output_type": "error",
     "traceback": [
      "\u001b[0;31m---------------------------------------------------------------------------\u001b[0m",
      "\u001b[0;31mTypeError\u001b[0m                                 Traceback (most recent call last)",
      "Cell \u001b[0;32mIn[64], line 1\u001b[0m\n\u001b[0;32m----> 1\u001b[0m display_phone_attributes(\u001b[38;5;124m\"\u001b[39m\u001b[38;5;124mvivo\u001b[39m\u001b[38;5;124m\"\u001b[39m, \u001b[38;5;241m600\u001b[39m, \u001b[38;5;241m32\u001b[39m)\n",
      "\u001b[0;31mTypeError\u001b[0m: display_phone_attributes() missing 1 required positional argument: 'storage'"
     ]
    }
   ],
   "source": [
    "display_phone_attributes(\"vivo\", 600, 32)"
   ]
  },
  {
   "cell_type": "markdown",
   "id": "a00d9d82-1565-483b-ab3f-f3dc90133e3e",
   "metadata": {},
   "source": [
    "# return Statement"
   ]
  },
  {
   "cell_type": "code",
   "execution_count": 67,
   "id": "2ab29471-6647-4ad5-8415-4095edffb5cd",
   "metadata": {},
   "outputs": [],
   "source": [
    " #return statement is used to exit the function and also returns the output"
   ]
  },
  {
   "cell_type": "markdown",
   "id": "f9283590-55ba-4dc8-aa4c-033cf1fc7e27",
   "metadata": {},
   "source": [
    "# 1) Write a function to take discount as input and return the discounted price of an Apple iphone"
   ]
  },
  {
   "cell_type": "code",
   "execution_count": 71,
   "id": "a345c926-612c-482f-843d-d87cbdfd9367",
   "metadata": {},
   "outputs": [],
   "source": [
    "def dis_price(discount):\n",
    "    '''\n",
    "    The function take\n",
    "    dicount percentage\n",
    "    as input and return the \n",
    "    discounted price of the iphone\n",
    "    '''\n",
    "    price =900\n",
    "    discounted_price =price- price*(discount/100)\n",
    "    return discounted_price"
   ]
  },
  {
   "cell_type": "code",
   "execution_count": 73,
   "id": "5b90ca0f-4b36-4286-b964-bb6326d0bbfa",
   "metadata": {},
   "outputs": [
    {
     "data": {
      "text/plain": [
       "765.0"
      ]
     },
     "execution_count": 73,
     "metadata": {},
     "output_type": "execute_result"
    }
   ],
   "source": [
    "dis_price(15)"
   ]
  },
  {
   "cell_type": "code",
   "execution_count": 77,
   "id": "aab90de8-497d-4180-b8bd-aa1a8afc6184",
   "metadata": {},
   "outputs": [
    {
     "data": {
      "text/plain": [
       "810.0"
      ]
     },
     "execution_count": 77,
     "metadata": {},
     "output_type": "execute_result"
    }
   ],
   "source": [
    "dp= dis_price(10)\n",
    "dp"
   ]
  },
  {
   "cell_type": "markdown",
   "id": "a88fc7ea-0ed6-4cc9-b592-7343b7778f36",
   "metadata": {},
   "source": [
    "# Lambda Functions"
   ]
  },
  {
   "cell_type": "code",
   "execution_count": 81,
   "id": "a94466b5-d253-468a-98eb-ff137027c90f",
   "metadata": {},
   "outputs": [],
   "source": [
    "dis_price_lambda=lambda discount:900 -(900*(discount/100))"
   ]
  },
  {
   "cell_type": "code",
   "execution_count": 85,
   "id": "e202116d-663f-4f8b-a59c-add9ac3d35a5",
   "metadata": {},
   "outputs": [
    {
     "data": {
      "text/plain": [
       "810.0"
      ]
     },
     "execution_count": 85,
     "metadata": {},
     "output_type": "execute_result"
    }
   ],
   "source": [
    "dis_price_lambda(10)"
   ]
  },
  {
   "cell_type": "code",
   "execution_count": null,
   "id": "97ef48b0-bbc3-4f2f-aa57-4c7986175f6d",
   "metadata": {},
   "outputs": [],
   "source": []
  }
 ],
 "metadata": {
  "kernelspec": {
   "display_name": "Python [conda env:base] *",
   "language": "python",
   "name": "conda-base-py"
  },
  "language_info": {
   "codemirror_mode": {
    "name": "ipython",
    "version": 3
   },
   "file_extension": ".py",
   "mimetype": "text/x-python",
   "name": "python",
   "nbconvert_exporter": "python",
   "pygments_lexer": "ipython3",
   "version": "3.12.7"
  }
 },
 "nbformat": 4,
 "nbformat_minor": 5
}
