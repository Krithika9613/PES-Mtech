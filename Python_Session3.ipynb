{
 "cells": [
  {
   "cell_type": "markdown",
   "id": "7709d065-e7a4-4efe-a1f4-69d6760b1a44",
   "metadata": {},
   "source": [
    "# Dictionaries ,List comprehensions ,Looping & conditional Statement in Python"
   ]
  },
  {
   "cell_type": "markdown",
   "id": "589266a2-ac79-4ec4-8047-c06765daad4a",
   "metadata": {},
   "source": [
    "# Dictionaries "
   ]
  },
  {
   "cell_type": "markdown",
   "id": "f7906d2d-9ff9-45a9-a1d3-22bfa75b7284",
   "metadata": {},
   "source": [
    "# 1)Store the attribute of apple iphone (4GB RAM ,128GB Storage) of price of $800 to single variable"
   ]
  },
  {
   "cell_type": "code",
   "execution_count": 4,
   "id": "ca020cbe-f7f0-4a15-95a1-f5f130297857",
   "metadata": {},
   "outputs": [
    {
     "name": "stdout",
     "output_type": "stream",
     "text": [
      "{'Brands': 'Apple', 'RAM(in GB)': 4, 'Storage(in GB)': 128, 'Price(in $)': 800}\n"
     ]
    }
   ],
   "source": [
    "#create dictionary to store attribute in single variable\n",
    "attributes={\n",
    "    \"Brands\":\"Apple\",\n",
    "    \"RAM(in GB)\":4,\n",
    "    \"Storage(in GB)\":128,\n",
    "    \"Price(in $)\":800\n",
    "}\n",
    "print(attributes)"
   ]
  },
  {
   "cell_type": "code",
   "execution_count": 5,
   "id": "3ed6dc80-ad43-4d35-97f9-e3b0a0833f3b",
   "metadata": {},
   "outputs": [
    {
     "data": {
      "text/plain": [
       "dict"
      ]
     },
     "execution_count": 5,
     "metadata": {},
     "output_type": "execute_result"
    }
   ],
   "source": [
    "type(attributes)"
   ]
  },
  {
   "cell_type": "markdown",
   "id": "3de54fa2-4c67-4419-a706-a3cc216146ad",
   "metadata": {},
   "source": [
    "# 2) Extract Price from dictionary attributes"
   ]
  },
  {
   "cell_type": "code",
   "execution_count": 7,
   "id": "2d8702d3-3ffa-4c24-9034-69ebaddf3bb5",
   "metadata": {},
   "outputs": [
    {
     "name": "stdout",
     "output_type": "stream",
     "text": [
      "800\n"
     ]
    }
   ],
   "source": [
    "print(attributes[\"Price(in $)\"])"
   ]
  },
  {
   "cell_type": "markdown",
   "id": "7752ac76-38d2-48b5-bee4-ee47f4df23eb",
   "metadata": {},
   "source": [
    "# 3) Change the Price in attribute to 900"
   ]
  },
  {
   "cell_type": "code",
   "execution_count": 9,
   "id": "631ca06a-258c-4298-950d-aec25ffd7a7e",
   "metadata": {},
   "outputs": [
    {
     "data": {
      "text/plain": [
       "{'Brands': 'Apple', 'RAM(in GB)': 4, 'Storage(in GB)': 128, 'Price(in $)': 900}"
      ]
     },
     "execution_count": 9,
     "metadata": {},
     "output_type": "execute_result"
    }
   ],
   "source": [
    "attributes[\"Price(in $)\"] =900\n",
    "attributes"
   ]
  },
  {
   "cell_type": "markdown",
   "id": "83eec0e7-b39b-445c-89a7-5c4b8d04f555",
   "metadata": {},
   "source": [
    "# 4) Create a dictionary of product for storing the attributes of 4 diff mobile phone "
   ]
  },
  {
   "cell_type": "code",
   "execution_count": 11,
   "id": "1548b7e8-70e1-4496-a303-1436aad428b0",
   "metadata": {},
   "outputs": [],
   "source": [
    "brand_list=['Apple',\"Samsung\",\"LG\",\"Motorola\"]\n",
    "ram_list=[4,12,8,8]\n",
    "storage_list=[128,128,64,128]\n",
    "price_list=[900,899,600,1000]"
   ]
  },
  {
   "cell_type": "code",
   "execution_count": 12,
   "id": "89cae007-06d6-4f0c-b7e9-2d46174b528d",
   "metadata": {},
   "outputs": [
    {
     "data": {
      "text/plain": [
       "{'Brands': ['Apple', 'Samsung', 'LG', 'Motorola'],\n",
       " 'RAM(in GB)': [4, 12, 8, 8],\n",
       " 'Storage(in GB)': [128, 128, 64, 128],\n",
       " 'Price(in $)': [900, 899, 600, 1000]}"
      ]
     },
     "execution_count": 12,
     "metadata": {},
     "output_type": "execute_result"
    }
   ],
   "source": [
    "products={  \n",
    "    \"Brands\":brand_list,\n",
    "    \"RAM(in GB)\":ram_list,\n",
    "    \"Storage(in GB)\":storage_list,\n",
    "    \"Price(in $)\":price_list\n",
    "}\n",
    "products"
   ]
  },
  {
   "cell_type": "code",
   "execution_count": 13,
   "id": "6eeac36b-df9a-4617-8375-01ae8765bf5c",
   "metadata": {},
   "outputs": [
    {
     "name": "stdout",
     "output_type": "stream",
     "text": [
      "{'Brands': ['Apple', 'Samsung', 'LG', 'Motorola'], 'RAM(in GB)': [4, 12, 8, 8], 'Storage(in GB)': [128, 128, 64, 128], 'Price(in $)': [900, 899, 600, 1000]}\n"
     ]
    }
   ],
   "source": [
    "print(products)"
   ]
  },
  {
   "cell_type": "markdown",
   "id": "35012122-8519-4128-909e-8712596618bc",
   "metadata": {},
   "source": [
    "# keys() and values() are methods of dictionary to extract the list of dictionary keys and dictionary values respectively"
   ]
  },
  {
   "cell_type": "markdown",
   "id": "1a06ee29-2a0f-4a47-80a7-c1d250d2da92",
   "metadata": {},
   "source": [
    "# 5) Extract Key and Values from dictionary Products"
   ]
  },
  {
   "cell_type": "code",
   "execution_count": 16,
   "id": "60ff75ac-e8aa-45b2-8d87-3f4301d738a4",
   "metadata": {},
   "outputs": [
    {
     "name": "stdout",
     "output_type": "stream",
     "text": [
      "The Key of dictionary are:\n",
      " dict_keys(['Brands', 'RAM(in GB)', 'Storage(in GB)', 'Price(in $)'])\n",
      "The Values of dictionary are:\n",
      " dict_values([['Apple', 'Samsung', 'LG', 'Motorola'], [4, 12, 8, 8], [128, 128, 64, 128], [900, 899, 600, 1000]])\n"
     ]
    }
   ],
   "source": [
    "keys=products.keys()\n",
    "print(\"The Key of dictionary are:\\n\",keys)\n",
    "values =products.values()\n",
    "print(\"The Values of dictionary are:\\n\",values)"
   ]
  },
  {
   "cell_type": "markdown",
   "id": "5499827d-5f13-4323-9177-7b4c0f4fa9ba",
   "metadata": {},
   "source": [
    "#  6) Print the RAM of 2 nd product."
   ]
  },
  {
   "cell_type": "code",
   "execution_count": 18,
   "id": "b9f0d610-a2e4-4f27-b2a5-007f6ca42a82",
   "metadata": {},
   "outputs": [
    {
     "data": {
      "text/plain": [
       "12"
      ]
     },
     "execution_count": 18,
     "metadata": {},
     "output_type": "execute_result"
    }
   ],
   "source": [
    "products[\"RAM(in GB)\"][1]"
   ]
  },
  {
   "cell_type": "markdown",
   "id": "c5a0e7eb-172c-4bdb-9a9d-9e614ad5d324",
   "metadata": {},
   "source": [
    "# List Comprehensions"
   ]
  },
  {
   "cell_type": "markdown",
   "id": "55a3b0f0-efcc-41c1-aa67-6022a5977be0",
   "metadata": {
    "jp-MarkdownHeadingCollapsed": true
   },
   "source": [
    "# List comphrehension is a type of control structure for creating a list from an existing iterable.(like tuple  ,strings, arrays, list etc)\n"
   ]
  },
  {
   "cell_type": "markdown",
   "id": "ba539e56-3270-45a1-8f0d-33111166e7d6",
   "metadata": {},
   "source": [
    "# 1) Store decided to provide the 5 % discount on all their product on upcoming sale. Print the discounted price list."
   ]
  },
  {
   "cell_type": "code",
   "execution_count": 22,
   "id": "efcf08eb-86ed-4855-8639-8aa720dcf3e2",
   "metadata": {},
   "outputs": [
    {
     "name": "stdout",
     "output_type": "stream",
     "text": [
      "[855.0, 854.05, 570.0, 950.0]\n"
     ]
    }
   ],
   "source": [
    "discounted_Price_List= [x-(x*(5/100)) for x in price_list]\n",
    "print(discounted_Price_List)"
   ]
  },
  {
   "cell_type": "markdown",
   "id": "6d52d9ba-81b0-4b07-b142-26cd231df165",
   "metadata": {},
   "source": [
    "# 2) Customer want to check  whether any of discounted sale price is within the budget"
   ]
  },
  {
   "cell_type": "code",
   "execution_count": 24,
   "id": "2b629184-0714-4fbb-8d40-7edffbefaa3a",
   "metadata": {},
   "outputs": [
    {
     "name": "stdin",
     "output_type": "stream",
     "text": [
      "Enter the Budget(in dollars):  900\n"
     ]
    },
    {
     "name": "stdout",
     "output_type": "stream",
     "text": [
      "['Yes', 'Yes', 'Yes', 'No']\n"
     ]
    }
   ],
   "source": [
    "budget =int(input(\"Enter the Budget(in dollars): \" ))\n",
    "within_Budget = [\"Yes\" if x<=budget else \"No\" for x in discounted_Price_List]\n",
    "print(within_Budget)"
   ]
  },
  {
   "cell_type": "markdown",
   "id": "9389f366-550c-4322-b81c-0c3b82c5fdcd",
   "metadata": {},
   "source": [
    "# Looping Statement"
   ]
  },
  {
   "cell_type": "markdown",
   "id": "0f0790ff-2b29-44a5-b2d6-e6273117fe84",
   "metadata": {},
   "source": [
    "# Loops are used in Python to iterate over a sequence\n",
    "syntex of the 'for loop':\n",
    "for iterator_var in sequence:\n",
    "statements(s)\n",
    "\n",
    "Syntex of the 'while loop' is:\n",
    "while condition:\n",
    "statements(s)\n"
   ]
  },
  {
   "cell_type": "raw",
   "id": "65393f73-73dc-46a2-9e81-9d5c3052d6d7",
   "metadata": {},
   "source": [
    "# simple examples for range() method"
   ]
  },
  {
   "cell_type": "code",
   "execution_count": 46,
   "id": "583bb482-64bc-4799-8022-df8960cc31b0",
   "metadata": {},
   "outputs": [
    {
     "data": {
      "text/plain": [
       "range(0, 6)"
      ]
     },
     "execution_count": 46,
     "metadata": {},
     "output_type": "execute_result"
    }
   ],
   "source": [
    "#range()\n",
    "range(6)"
   ]
  },
  {
   "cell_type": "code",
   "execution_count": 48,
   "id": "e9df603f-b823-405c-b20a-0d3322d454fe",
   "metadata": {},
   "outputs": [
    {
     "data": {
      "text/plain": [
       "[0, 1, 2, 3, 4, 5]"
      ]
     },
     "execution_count": 48,
     "metadata": {},
     "output_type": "execute_result"
    }
   ],
   "source": [
    "list(range(6))"
   ]
  },
  {
   "cell_type": "code",
   "execution_count": 53,
   "id": "09d69689-91d6-412a-b7cb-3be7f4b29e71",
   "metadata": {},
   "outputs": [
    {
     "data": {
      "text/plain": [
       "[2, 3, 4, 5]"
      ]
     },
     "execution_count": 53,
     "metadata": {},
     "output_type": "execute_result"
    }
   ],
   "source": [
    "list(range(2,6))"
   ]
  },
  {
   "cell_type": "code",
   "execution_count": 55,
   "id": "475c9bc5-3028-4d9b-8f4c-f459ed363de6",
   "metadata": {},
   "outputs": [
    {
     "data": {
      "text/plain": [
       "[2, 4, 6, 8, 10, 12]"
      ]
     },
     "execution_count": 55,
     "metadata": {},
     "output_type": "execute_result"
    }
   ],
   "source": [
    "list(range(2,14,2))"
   ]
  },
  {
   "cell_type": "markdown",
   "id": "934c923c-351b-4ed7-9319-c5e4b29af452",
   "metadata": {},
   "source": [
    "# 1) Store want to check the price of the Apple iPhone(4GB,128 GB)after providing 5%,10%,15% and 20% discount respectively. Price of the iphone before discount is $ 900."
   ]
  },
  {
   "cell_type": "code",
   "execution_count": 68,
   "id": "ba4b2624-f938-4ef9-98b1-dfdaa4881112",
   "metadata": {},
   "outputs": [
    {
     "name": "stdout",
     "output_type": "stream",
     "text": [
      "The price after providing 5% discount is $855.0\n",
      "The price after providing 10% discount is $810.0\n",
      "The price after providing 15% discount is $765.0\n",
      "The price after providing 20% discount is $720.0\n"
     ]
    }
   ],
   "source": [
    "# solution for the above problem using while loop\n",
    "price=900\n",
    "for i in range(5,21,5):\n",
    "    discount=price*(i/100)\n",
    "    discounted_price =price-discount\n",
    "    print(\n",
    "    \"The price after providing \",\n",
    "    i,\"% discount is $\",discounted_price, sep=\"\")"
   ]
  },
  {
   "cell_type": "code",
   "execution_count": 80,
   "id": "16213081-fd28-4f34-befb-ecd13f968987",
   "metadata": {},
   "outputs": [
    {
     "name": "stdout",
     "output_type": "stream",
     "text": [
      "The price after providing 5% discount is $855.0\n",
      "The price after providing 10% discount is $810.0\n",
      "The price after providing 15% discount is $765.0\n",
      "The price after providing 20% discount is $720.0\n"
     ]
    }
   ],
   "source": [
    "# solution for the above problem using while loop\n",
    "price = 900\n",
    "i=5\n",
    "while i<=20:\n",
    "    discount=price*(i/100)\n",
    "    discounted_price =price-discount\n",
    "    print(\n",
    "    \"The price after providing \",\n",
    "    i,\"% discount is $\",discounted_price, sep=\"\"\n",
    "    )\n",
    "    i+=5\n"
   ]
  },
  {
   "cell_type": "markdown",
   "id": "c92fb957-edf5-4192-9249-1dca9eef85c6",
   "metadata": {},
   "source": [
    "# Conditional Statement"
   ]
  },
  {
   "cell_type": "markdown",
   "id": "d6e83d0d-44b9-4217-a4f7-9e8358b4fc08",
   "metadata": {},
   "source": [
    "syntex for 'if-else' statement:\n",
    "if(test_expresion):\n",
    "body of if\n",
    "else:\n",
    "body of else"
   ]
  },
  {
   "cell_type": "markdown",
   "id": "5346bbf7-ba42-4907-910e-bf57c763a06e",
   "metadata": {},
   "source": [
    "# 1)Write a code that print whether the customer can buy the iphone or not based on their budget."
   ]
  },
  {
   "cell_type": "code",
   "execution_count": 92,
   "id": "2f742d90-7f5d-436c-876d-3de5f2afa497",
   "metadata": {},
   "outputs": [
    {
     "name": "stdin",
     "output_type": "stream",
     "text": [
      "Enter you budget(in dollars): 600\n"
     ]
    },
    {
     "name": "stdout",
     "output_type": "stream",
     "text": [
      "Sorry! Mobile Price is more than your budget\n"
     ]
    }
   ],
   "source": [
    "budget =int(input(\"Enter you budget(in dollars):\"))\n",
    "if price<=budget:\n",
    "    print(\"Congrats! You can buy the iphone\")\n",
    "else:\n",
    "    print(\"Sorry! Mobile Price is more than your budget\")"
   ]
  },
  {
   "cell_type": "markdown",
   "id": "75858d99-4648-4bc6-8cc9-93ae6edc78d0",
   "metadata": {},
   "source": [
    "# 2)Suppose the price of  the 32GB,64GB and 128 GB iphones are $ 600, $700 and $900 respectively.Write a conditinal statement to print the price based on the internal storage of the phone."
   ]
  },
  {
   "cell_type": "code",
   "execution_count": 106,
   "id": "c011d47c-5860-4a7d-8259-b5269684cd44",
   "metadata": {},
   "outputs": [
    {
     "name": "stdin",
     "output_type": "stream",
     "text": [
      "Enter the memory:  128\n"
     ]
    },
    {
     "name": "stdout",
     "output_type": "stream",
     "text": [
      "The price of the iphone is $900\n"
     ]
    }
   ],
   "source": [
    "memory= int(input(\"Enter the memory: \"))\n",
    "if memory == 32:\n",
    "    print(\"The price of the iphone is $600\")\n",
    "elif memory ==64:\n",
    "        print(\"The price of the iphone is $700\")\n",
    "elif memory ==128:\n",
    "        print(\"The price of the iphone is $900\")\n",
    "else:\n",
    "        print(\"Invalid Memory requirement\")"
   ]
  }
 ],
 "metadata": {
  "kernelspec": {
   "display_name": "Python [conda env:base] *",
   "language": "python",
   "name": "conda-base-py"
  },
  "language_info": {
   "codemirror_mode": {
    "name": "ipython",
    "version": 3
   },
   "file_extension": ".py",
   "mimetype": "text/x-python",
   "name": "python",
   "nbconvert_exporter": "python",
   "pygments_lexer": "ipython3",
   "version": "3.12.7"
  }
 },
 "nbformat": 4,
 "nbformat_minor": 5
}
