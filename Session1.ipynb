{
 "cells": [
  {
   "cell_type": "markdown",
   "id": "137685d2-7546-4540-9bb3-0ee106bd72e3",
   "metadata": {},
   "source": [
    "# Introduction to Python"
   ]
  },
  {
   "cell_type": "code",
   "execution_count": 1,
   "id": "f64df192-9fda-4b34-82e9-04139e77cca3",
   "metadata": {},
   "outputs": [
    {
     "data": {
      "text/plain": [
       "2"
      ]
     },
     "execution_count": 1,
     "metadata": {},
     "output_type": "execute_result"
    }
   ],
   "source": [
    "2"
   ]
  },
  {
   "cell_type": "code",
   "execution_count": 3,
   "id": "4881a5bb-36b0-4110-b7b7-833f67437529",
   "metadata": {},
   "outputs": [
    {
     "data": {
      "text/plain": [
       "4"
      ]
     },
     "execution_count": 3,
     "metadata": {},
     "output_type": "execute_result"
    }
   ],
   "source": [
    "2+2"
   ]
  },
  {
   "cell_type": "markdown",
   "id": "4e4e50a3-c937-471a-9c57-116f4c242043",
   "metadata": {},
   "source": [
    "# If we do two or more operation in the same cell only the last operation is executed .\n",
    "# In the below example we can see only 3+3+3 is returning the output."
   ]
  },
  {
   "cell_type": "code",
   "execution_count": 5,
   "id": "90ce5f54-4b60-42ab-9f31-b8a4de0e5503",
   "metadata": {},
   "outputs": [
    {
     "data": {
      "text/plain": [
       "9"
      ]
     },
     "execution_count": 5,
     "metadata": {},
     "output_type": "execute_result"
    }
   ],
   "source": [
    "2+2\n",
    "4+2\n",
    "3+3+3"
   ]
  },
  {
   "cell_type": "markdown",
   "id": "fb3bd5ee-8b35-4f38-8106-9489ff467fe6",
   "metadata": {},
   "source": [
    "# If we want to  perform multiple operation in the cell use Print "
   ]
  },
  {
   "cell_type": "code",
   "execution_count": 11,
   "id": "2a9c7217-5bf3-4dec-a134-cb0543a093f6",
   "metadata": {},
   "outputs": [
    {
     "name": "stdout",
     "output_type": "stream",
     "text": [
      "4\n",
      "6\n",
      "9\n"
     ]
    }
   ],
   "source": [
    "print(2+2)\n",
    "print(4+2)\n",
    "print(3+3+3)"
   ]
  },
  {
   "cell_type": "code",
   "execution_count": 16,
   "id": "a8b2a839-6afb-4fe6-ba82-de7b6866b860",
   "metadata": {},
   "outputs": [
    {
     "name": "stdout",
     "output_type": "stream",
     "text": [
      "hello world!\n"
     ]
    }
   ],
   "source": [
    "print(\"hello world!\");"
   ]
  },
  {
   "cell_type": "code",
   "execution_count": 18,
   "id": "6e670f28-b9c1-43da-8051-0c9cd87c9e26",
   "metadata": {},
   "outputs": [
    {
     "name": "stdout",
     "output_type": "stream",
     "text": [
      "hello world 4 Welcome to Python\n"
     ]
    }
   ],
   "source": [
    "print('hello world', 2+2, 'Welcome to Python')"
   ]
  },
  {
   "cell_type": "markdown",
   "id": "c2de3011-2baf-4539-9690-aa81233cbe1b",
   "metadata": {},
   "source": [
    "# sep=\"\" remove white space between the comma seperated word"
   ]
  },
  {
   "cell_type": "code",
   "execution_count": 22,
   "id": "5788557c-dac4-4697-aebb-f590d0acda51",
   "metadata": {},
   "outputs": [
    {
     "name": "stdout",
     "output_type": "stream",
     "text": [
      "hello world4Welcome to Python\n"
     ]
    }
   ],
   "source": [
    "print('hello world', 2+2, 'Welcome to Python', sep=\"\")"
   ]
  },
  {
   "cell_type": "code",
   "execution_count": 27,
   "id": "30d7a20b-efd1-4f60-8212-3c67ed4cb0e3",
   "metadata": {},
   "outputs": [
    {
     "data": {
      "text/plain": [
       "4"
      ]
     },
     "execution_count": 27,
     "metadata": {},
     "output_type": "execute_result"
    }
   ],
   "source": [
    "# everything to the right of a # is not executed ,it is called comments \n",
    "2+2 #only the  uncommented code is executed "
   ]
  },
  {
   "cell_type": "code",
   "execution_count": 29,
   "id": "4e05392b-675c-47ee-afcc-32497c278895",
   "metadata": {},
   "outputs": [
    {
     "name": "stdout",
     "output_type": "stream",
     "text": [
      "helloworld\n"
     ]
    }
   ],
   "source": [
    "print(\"hello\" + \"world\") # '+' used to Add String"
   ]
  },
  {
   "cell_type": "code",
   "execution_count": 31,
   "id": "0f1b1ccc-2242-4a44-9af4-b8571e181cd1",
   "metadata": {},
   "outputs": [
    {
     "ename": "TypeError",
     "evalue": "can only concatenate str (not \"int\") to str",
     "output_type": "error",
     "traceback": [
      "\u001b[0;31m---------------------------------------------------------------------------\u001b[0m",
      "\u001b[0;31mTypeError\u001b[0m                                 Traceback (most recent call last)",
      "Cell \u001b[0;32mIn[31], line 1\u001b[0m\n\u001b[0;32m----> 1\u001b[0m \u001b[38;5;28mprint\u001b[39m(\u001b[38;5;124m\"\u001b[39m\u001b[38;5;124mhello\u001b[39m\u001b[38;5;124m\"\u001b[39m\u001b[38;5;241m+\u001b[39m\u001b[38;5;241m5\u001b[39m)\n",
      "\u001b[0;31mTypeError\u001b[0m: can only concatenate str (not \"int\") to str"
     ]
    }
   ],
   "source": [
    "print(\"hello\"+5) #code does not execute .It gives an error if we ADD string and Integer"
   ]
  },
  {
   "cell_type": "markdown",
   "id": "03a1e0bb-0912-412f-9a64-00a05305fd2d",
   "metadata": {},
   "source": [
    "# Introduction to variables"
   ]
  },
  {
   "cell_type": "markdown",
   "id": "ffe1f7fd-953f-4120-bfcb-17ed622cb2ea",
   "metadata": {},
   "source": [
    "# Mobile Store sell the Diff mobile phone to the customer.For each order that is placed store keep the record of various attributes related to mobile like Price ,Brand ,Ram and Internal storage"
   ]
  },
  {
   "cell_type": "markdown",
   "id": "9166adc8-8e8f-4d75-8a53-058aeb4bee5b",
   "metadata": {},
   "source": [
    "# Q) Suppose store sold Apple iphone of(4 GB RAM and 128 GB Storage) for$900. Store this information in veriable price ,brand,ram, storage"
   ]
  },
  {
   "cell_type": "code",
   "execution_count": 64,
   "id": "b6e0834a-3d10-442a-8e01-492f2040f435",
   "metadata": {},
   "outputs": [],
   "source": [
    "price=900 #integer Variable\n",
    "brand='Apple'#string variable\n",
    "ram=4\n",
    "storage=128\n"
   ]
  },
  {
   "cell_type": "code",
   "execution_count": 60,
   "id": "77bf73cb-79f8-44e4-bfc1-f47ebb373fbc",
   "metadata": {},
   "outputs": [
    {
     "name": "stdout",
     "output_type": "stream",
     "text": [
      "The brand of mobile is Apple\n"
     ]
    }
   ],
   "source": [
    "print(\"The brand of mobile is\",brand)\n"
   ]
  },
  {
   "cell_type": "code",
   "execution_count": 62,
   "id": "e75bc942-9059-41e1-b022-6c61aba4e3cf",
   "metadata": {},
   "outputs": [
    {
     "name": "stdout",
     "output_type": "stream",
     "text": [
      "The  RAM of mobile is 4 GB\n"
     ]
    }
   ],
   "source": [
    "print(\"The  RAM of mobile is\", ram,\"GB\")\n"
   ]
  },
  {
   "cell_type": "code",
   "execution_count": null,
   "id": "6de6293a-d963-4fdd-a90d-639ed534a450",
   "metadata": {},
   "outputs": [],
   "source": [
    "print(\"The Storage of mobile is\"+\" \"+storage+\"GB\")\n"
   ]
  },
  {
   "cell_type": "code",
   "execution_count": 54,
   "id": "a426e7da-5daa-4e6f-b89a-69bebc385137",
   "metadata": {},
   "outputs": [
    {
     "name": "stdout",
     "output_type": "stream",
     "text": [
      "The price of mobile is $900\n"
     ]
    }
   ],
   "source": [
    "print(\"The price of mobile is $\",price,sep=\"\")\n"
   ]
  },
  {
   "cell_type": "markdown",
   "id": "7d1a42fc-a919-460c-9d39-931301fa81ad",
   "metadata": {},
   "source": [
    "# Q) store the billing states as True"
   ]
  },
  {
   "cell_type": "code",
   "execution_count": 72,
   "id": "d2131884-0f39-4eed-a4d6-2a997193fb57",
   "metadata": {},
   "outputs": [
    {
     "name": "stdout",
     "output_type": "stream",
     "text": [
      "True\n"
     ]
    }
   ],
   "source": [
    "#boolean Variable\n",
    "is_billed = True\n",
    "print(is_billed)"
   ]
  },
  {
   "cell_type": "markdown",
   "id": "b5c93f0a-3636-4e68-a0d0-7fbade822734",
   "metadata": {},
   "source": [
    "# Q) Check the DataTypes of the variable price,brand,ram,storage,is_billed"
   ]
  },
  {
   "cell_type": "code",
   "execution_count": 74,
   "id": "2104ca17-87f0-4d26-95ca-24a6e82fe253",
   "metadata": {},
   "outputs": [
    {
     "data": {
      "text/plain": [
       "int"
      ]
     },
     "execution_count": 74,
     "metadata": {},
     "output_type": "execute_result"
    }
   ],
   "source": [
    "type(price)"
   ]
  },
  {
   "cell_type": "code",
   "execution_count": 76,
   "id": "9d4f8c23-9d64-46c2-b205-4a5b922055fd",
   "metadata": {},
   "outputs": [
    {
     "data": {
      "text/plain": [
       "str"
      ]
     },
     "execution_count": 76,
     "metadata": {},
     "output_type": "execute_result"
    }
   ],
   "source": [
    "type(brand)"
   ]
  },
  {
   "cell_type": "code",
   "execution_count": 78,
   "id": "60097003-b7b8-4f95-9569-1317e10268dd",
   "metadata": {},
   "outputs": [
    {
     "data": {
      "text/plain": [
       "int"
      ]
     },
     "execution_count": 78,
     "metadata": {},
     "output_type": "execute_result"
    }
   ],
   "source": [
    "type(ram)"
   ]
  },
  {
   "cell_type": "code",
   "execution_count": 80,
   "id": "fa8f361f-9f63-45c4-a7a5-307506cd5b0d",
   "metadata": {},
   "outputs": [
    {
     "data": {
      "text/plain": [
       "int"
      ]
     },
     "execution_count": 80,
     "metadata": {},
     "output_type": "execute_result"
    }
   ],
   "source": [
    "type(storage)"
   ]
  },
  {
   "cell_type": "code",
   "execution_count": 82,
   "id": "8ed59bbd-608f-41be-acbf-b84c7496cd76",
   "metadata": {},
   "outputs": [
    {
     "data": {
      "text/plain": [
       "bool"
      ]
     },
     "execution_count": 82,
     "metadata": {},
     "output_type": "execute_result"
    }
   ],
   "source": [
    "\n",
    "type(is_billed)"
   ]
  },
  {
   "cell_type": "markdown",
   "id": "a1facad6-5421-482f-8db2-f0ab26790863",
   "metadata": {},
   "source": [
    "# Q) If the customer buy 2 iphone of same configuration  at Price $900 .What is the total bill that customer has to pay?"
   ]
  },
  {
   "cell_type": "code",
   "execution_count": 90,
   "id": "f226949e-d914-4533-a709-f71a23fbbf0d",
   "metadata": {},
   "outputs": [
    {
     "name": "stdout",
     "output_type": "stream",
     "text": [
      "Total bill that customer has to pay $1800\n"
     ]
    }
   ],
   "source": [
    "bill=price*2\n",
    "print(\"Total bill that customer has to pay $\",bill ,sep=\"\")"
   ]
  },
  {
   "cell_type": "markdown",
   "id": "a2c26ae7-2bbc-4511-b1a0-d2a9b15ed39e",
   "metadata": {},
   "source": [
    "# Q) If the store provide discount of  15 Dolar to the iphone cost $900 .What is the price of phone after discount?1"
   ]
  },
  {
   "cell_type": "code",
   "execution_count": 92,
   "id": "7d0abdf0-78e1-490b-9f86-bd3b558ee856",
   "metadata": {},
   "outputs": [
    {
     "name": "stdout",
     "output_type": "stream",
     "text": [
      "Bill that customer paid after $15 discunt $885\n"
     ]
    }
   ],
   "source": [
    "discount =15\n",
    "price_after_discount = 900-15\n",
    "print(\"Bill that customer paid after $15 discunt $\",price_after_discount ,sep=\"\")"
   ]
  },
  {
   "cell_type": "markdown",
   "id": "a731e743-8414-4666-8fef-cc0f6755ef0b",
   "metadata": {},
   "source": [
    "# Q)Let say customer buy 2 apple iphone for $1800.Wt is the price of 1 phone."
   ]
  },
  {
   "cell_type": "code",
   "execution_count": 94,
   "id": "f5b8617e-acac-43ed-bac7-75ea2ecc5048",
   "metadata": {},
   "outputs": [
    {
     "name": "stdout",
     "output_type": "stream",
     "text": [
      "Price of the iphone $900.0\n"
     ]
    }
   ],
   "source": [
    "bill=1800\n",
    "price = bill/2 #/ give floating Value\n",
    "print(\"Price of the iphone $\",price ,sep=\"\")"
   ]
  },
  {
   "cell_type": "markdown",
   "id": "e9815049-85dc-4a16-afce-8fbc0619a091",
   "metadata": {},
   "source": [
    "# Q) If customer bought x number of iphone for $900 each.Total bill that customer paid is 3600.Wt is the value of x?"
   ]
  },
  {
   "cell_type": "code",
   "execution_count": 98,
   "id": "5c0d97dc-5b25-4994-a8dd-3573894e5ed2",
   "metadata": {},
   "outputs": [
    {
     "name": "stdout",
     "output_type": "stream",
     "text": [
      "Total number of iphone customer purchased 4\n"
     ]
    }
   ],
   "source": [
    "bill = 3600\n",
    "price =900\n",
    "x=bill//price # // round to nearest integer value .Double devided forces the value to be integer.\n",
    "print(\"Total number of iphone customer purchased\",x)"
   ]
  },
  {
   "cell_type": "markdown",
   "id": "48ac2bf1-ae4c-40c0-9ea1-c0c31e23b0b4",
   "metadata": {},
   "source": [
    "# Q) If the store provide discount of  4.5 to the iphone cost $900 .What is the price of phone after discount?"
   ]
  },
  {
   "cell_type": "code",
   "execution_count": 116,
   "id": "e5c4dc17-fffd-4f72-b06b-926fe1806bd4",
   "metadata": {},
   "outputs": [
    {
     "name": "stdout",
     "output_type": "stream",
     "text": [
      "price of the phone after discount$859.5\n"
     ]
    }
   ],
   "source": [
    "price =900\n",
    "discount =price*0.045\n",
    "price_After_Discount = price - discount\n",
    "print(\"price of the phone after discount$\" + str(price_After_Discount)) #str(),int(),float() is the explicit type coversion"
   ]
  },
  {
   "cell_type": "code",
   "execution_count": 104,
   "id": "b97dd37e-2121-4f47-9f23-442004a328a9",
   "metadata": {},
   "outputs": [
    {
     "data": {
      "text/plain": [
       "float"
      ]
     },
     "execution_count": 104,
     "metadata": {},
     "output_type": "execute_result"
    }
   ],
   "source": [
    "type(price_After_Discount)"
   ]
  },
  {
   "cell_type": "code",
   "execution_count": 118,
   "id": "affaf9f6-b8b7-45ef-8aff-cce0498886c3",
   "metadata": {},
   "outputs": [
    {
     "data": {
      "text/plain": [
       "int"
      ]
     },
     "execution_count": 118,
     "metadata": {},
     "output_type": "execute_result"
    }
   ],
   "source": [
    "type(price)"
   ]
  },
  {
   "cell_type": "code",
   "execution_count": 120,
   "id": "7a416d11-d74f-4985-aea6-2ce1b29e62b7",
   "metadata": {},
   "outputs": [
    {
     "data": {
      "text/plain": [
       "float"
      ]
     },
     "execution_count": 120,
     "metadata": {},
     "output_type": "execute_result"
    }
   ],
   "source": [
    "type(discount)"
   ]
  },
  {
   "cell_type": "code",
   "execution_count": 124,
   "id": "d1e9815d-9eef-456c-8b5f-5fb4cbc82c30",
   "metadata": {},
   "outputs": [
    {
     "name": "stdout",
     "output_type": "stream",
     "text": [
      "The data type of price is <class 'int'>\n",
      "The data type of discount is <class 'float'>\n"
     ]
    }
   ],
   "source": [
    "print(\"The data type of price is\",type(price))\n",
    "print(\"The data type of discount is\",type(discount))\n",
    "       "
   ]
  }
 ],
 "metadata": {
  "kernelspec": {
   "display_name": "Python [conda env:base] *",
   "language": "python",
   "name": "conda-base-py"
  },
  "language_info": {
   "codemirror_mode": {
    "name": "ipython",
    "version": 3
   },
   "file_extension": ".py",
   "mimetype": "text/x-python",
   "name": "python",
   "nbconvert_exporter": "python",
   "pygments_lexer": "ipython3",
   "version": "3.12.7"
  }
 },
 "nbformat": 4,
 "nbformat_minor": 5
}
