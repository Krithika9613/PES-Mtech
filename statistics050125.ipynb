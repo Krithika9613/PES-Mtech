{
  "nbformat": 4,
  "nbformat_minor": 0,
  "metadata": {
    "colab": {
      "provenance": [],
      "name": "statistics050125.ipynb",
      "authorship_tag": "ABX9TyOs5QyF38W2OprCd0XRDX5s",
      "include_colab_link": true
    },
    "kernelspec": {
      "name": "python3",
      "display_name": "Python 3"
    },
    "language_info": {
      "name": "python"
    }
  },
  "cells": [
    {
      "cell_type": "markdown",
      "metadata": {
        "id": "view-in-github",
        "colab_type": "text"
      },
      "source": [
        "<a href=\"https://colab.research.google.com/github/Krithika9613/PES-Mtech/blob/main/statistics050125.ipynb\" target=\"_parent\"><img src=\"https://colab.research.google.com/assets/colab-badge.svg\" alt=\"Open In Colab\"/></a>"
      ]
    },
    {
      "cell_type": "code",
      "execution_count": 3,
      "metadata": {
        "colab": {
          "base_uri": "https://localhost:8080/"
        },
        "id": "l4B0VovEh3Mc",
        "outputId": "581fdaf7-afd6-45b4-d8fa-4ffeba858aa1"
      },
      "outputs": [
        {
          "output_type": "stream",
          "name": "stdout",
          "text": [
            "Collecting pyforest\n",
            "  Downloading pyforest-1.1.2.tar.gz (17 kB)\n",
            "  Preparing metadata (setup.py) ... \u001b[?25l\u001b[?25hdone\n",
            "Building wheels for collected packages: pyforest\n",
            "  Building wheel for pyforest (setup.py) ... \u001b[?25l\u001b[?25hdone\n",
            "  Created wheel for pyforest: filename=pyforest-1.1.2-py2.py3-none-any.whl size=15897 sha256=2f56ac4fa9b95f87c763d67fe5eeee7a0b595fed6f407404e91060298dc681f2\n",
            "  Stored in directory: /root/.cache/pip/wheels/c5/ca/73/5cdc3d087111bfbdef90be5457aa03c00c0e32241b2752445c\n",
            "Successfully built pyforest\n",
            "Installing collected packages: pyforest\n",
            "Successfully installed pyforest-1.1.2\n"
          ]
        }
      ],
      "source": [
        "!pip install pyforest"
      ]
    },
    {
      "cell_type": "code",
      "source": [
        "import pyforest"
      ],
      "metadata": {
        "id": "UIJ2x5k8_QBt"
      },
      "execution_count": 4,
      "outputs": []
    },
    {
      "cell_type": "code",
      "source": [
        "#To check the the imports in pyforest\n",
        "pyforest.lazy_imports()"
      ],
      "metadata": {
        "id": "YJ8cAvYX_2gl",
        "outputId": "20ec1197-c73e-4c76-b0c3-985e2ae17e16",
        "colab": {
          "base_uri": "https://localhost:8080/"
        }
      },
      "execution_count": 5,
      "outputs": [
        {
          "output_type": "execute_result",
          "data": {
            "text/plain": [
              "['import awswrangler as wr',\n",
              " 'from sklearn.manifold import TSNE',\n",
              " 'import skimage',\n",
              " 'import spacy',\n",
              " 'from sklearn.linear_model import RidgeCV',\n",
              " 'from sklearn.preprocessing import StandardScaler',\n",
              " 'import bokeh',\n",
              " 'from fbprophet import Prophet',\n",
              " 'import dash',\n",
              " 'import tensorflow as tf',\n",
              " 'import glob',\n",
              " 'from sklearn.model_selection import train_test_split',\n",
              " 'import sklearn',\n",
              " 'import torch',\n",
              " 'import numpy as np',\n",
              " 'from scipy import stats',\n",
              " 'import random',\n",
              " 'import statsmodels.api as sm',\n",
              " 'import fastai',\n",
              " 'import matplotlib.pyplot as plt',\n",
              " 'import fbprophet',\n",
              " 'import sys',\n",
              " 'from sklearn.preprocessing import RobustScaler',\n",
              " 'from scipy import signal as sg',\n",
              " 'import imutils',\n",
              " 'import statistics',\n",
              " 'import altair as alt',\n",
              " 'import tqdm',\n",
              " 'import matplotlib as mpl',\n",
              " 'from sklearn import metrics',\n",
              " 'import seaborn as sns',\n",
              " 'import plotly.graph_objs as go',\n",
              " 'from sklearn.ensemble import RandomForestRegressor',\n",
              " 'import os',\n",
              " 'import keras',\n",
              " 'from openpyxl import load_workbook',\n",
              " 'import datetime as dt',\n",
              " 'import gensim',\n",
              " 'import lightgbm as lgb',\n",
              " 'from sklearn.model_selection import StratifiedKFold',\n",
              " 'from sklearn.model_selection import RandomizedSearchCV',\n",
              " 'from xlrd import open_workbook',\n",
              " 'from sklearn.model_selection import cross_val_score',\n",
              " 'import re',\n",
              " 'from sklearn.ensemble import RandomForestClassifier',\n",
              " 'from sklearn.feature_extraction.text import TfidfVectorizer',\n",
              " 'from sklearn.linear_model import Ridge',\n",
              " 'import nltk',\n",
              " 'from pyspark import SparkContext',\n",
              " 'from dask import dataframe as dd',\n",
              " 'from sklearn.impute import SimpleImputer',\n",
              " 'from sklearn import svm',\n",
              " 'import textblob',\n",
              " 'import cv2',\n",
              " 'import xgboost as xgb']"
            ]
          },
          "metadata": {},
          "execution_count": 5
        }
      ]
    },
    {
      "cell_type": "code",
      "source": [
        "import warnings\n",
        "warnings.filterwarnings('ignore')"
      ],
      "metadata": {
        "id": "UK2vCjVyAnE5"
      },
      "execution_count": 6,
      "outputs": []
    },
    {
      "cell_type": "code",
      "source": [
        "#case-1 Normal distribution\n",
        "pop1=stats.norm.rvs(10,5,10000)\n",
        "sns.distplot(pop1)"
      ],
      "metadata": {
        "id": "hBrSc74ABLGN",
        "outputId": "3c029a9a-b340-43cb-8fba-f0b8e98dd56a",
        "colab": {
          "base_uri": "https://localhost:8080/",
          "height": 447
        }
      },
      "execution_count": 26,
      "outputs": [
        {
          "output_type": "execute_result",
          "data": {
            "text/plain": [
              "<Axes: ylabel='Density'>"
            ]
          },
          "metadata": {},
          "execution_count": 26
        },
        {
          "output_type": "display_data",
          "data": {
            "text/plain": [
              "<Figure size 640x480 with 1 Axes>"
            ],
            "image/png": "[encoded data removed]"
          },
          "metadata": {}
        }
      ]
    },
    {
      "cell_type": "code",
      "source": [
        "sample1=random.sample(list(pop1),k=100)\n",
        "sample1"
      ],
      "metadata": {
        "id": "S9B6Dtb0CGp2",
        "outputId": "017ea4e6-1a74-43f9-a1c9-ac270d2b9dc7",
        "colab": {
          "base_uri": "https://localhost:8080/"
        }
      },
      "execution_count": 27,
      "outputs": [
        {
          "output_type": "execute_result",
          "data": {
            "text/plain": [
              "[3.2265998592884966,\n",
              " 20.11061408375305,\n",
              " 15.603366574661473,\n",
              " 9.930331974242053,\n",
              " 12.07149924432164,\n",
              " 12.048194086768728,\n",
              " 8.381453956255477,\n",
              " 10.381210710522005,\n",
              " 16.567861892947406,\n",
              " 14.319893254362626,\n",
              " 16.11424922661316,\n",
              " 0.9378908036828388,\n",
              " 10.808995444127628,\n",
              " 9.290609552211134,\n",
              " 12.350551966481014,\n",
              " 2.6626159829185347,\n",
              " 10.476713463283291,\n",
              " 13.803779499213956,\n",
              " 7.247269514391337,\n",
              " 18.495801122226876,\n",
              " 7.514869974254744,\n",
              " 7.323447908394631,\n",
              " 11.92891884450927,\n",
              " 7.908279440560968,\n",
              " 11.62558826053414,\n",
              " 3.529830433810436,\n",
              " 7.662925687147331,\n",
              " 1.3026133333217622,\n",
              " 5.836742828181229,\n",
              " 11.792154795153994,\n",
              " 13.916039224931872,\n",
              " 8.947252778738248,\n",
              " 18.82803228540513,\n",
              " 1.2599129433593852,\n",
              " 2.1703777861130016,\n",
              " 14.171775972058278,\n",
              " 13.902046430714513,\n",
              " 12.88283757152504,\n",
              " 4.051898481379452,\n",
              " 1.1607469589179313,\n",
              " 18.09242067581284,\n",
              " 6.659463020767033,\n",
              " 11.39007550535069,\n",
              " 6.570605621521057,\n",
              " 16.317450372341675,\n",
              " 10.298848525888218,\n",
              " 8.669814749311914,\n",
              " 13.602981152123634,\n",
              " 15.765339505410415,\n",
              " 5.719793114929197,\n",
              " 12.207884250433858,\n",
              " 16.84303494211035,\n",
              " 3.120630684932518,\n",
              " -1.0657087154653038,\n",
              " 7.737702472079189,\n",
              " 9.502243421819378,\n",
              " 18.56901985677996,\n",
              " 17.88613462643012,\n",
              " 9.219422097077542,\n",
              " 5.800441888419373,\n",
              " 8.696123764028098,\n",
              " 16.228664336180838,\n",
              " 17.32254806317291,\n",
              " 3.9069978277048136,\n",
              " 14.516536078797426,\n",
              " 12.357716482081072,\n",
              " 18.903431876559395,\n",
              " 10.984962676930751,\n",
              " 13.870640801728111,\n",
              " 4.913630021413499,\n",
              " 6.631853191495318,\n",
              " 11.121113287270504,\n",
              " 12.055964499452209,\n",
              " 5.30644595160015,\n",
              " 12.318679761268822,\n",
              " 1.609062899882293,\n",
              " 5.165164424393063,\n",
              " 6.134440980459404,\n",
              " 6.884532762643682,\n",
              " 9.821328282739069,\n",
              " 8.025187239225769,\n",
              " 8.245677251088354,\n",
              " 5.854388447559184,\n",
              " 4.661209586500895,\n",
              " 11.129129110351554,\n",
              " 9.396065350969176,\n",
              " 10.554742385652137,\n",
              " 2.475825976128803,\n",
              " 9.523518213467563,\n",
              " 9.51100861389328,\n",
              " 6.993330798322175,\n",
              " 7.090103191988746,\n",
              " 11.58434120891355,\n",
              " 10.852822183585534,\n",
              " 8.602730799865068,\n",
              " 7.354430006424478,\n",
              " 13.846170579979509,\n",
              " 12.321103455961564,\n",
              " 13.55097514857806,\n",
              " 8.325538011813098]"
            ]
          },
          "metadata": {},
          "execution_count": 27
        }
      ]
    },
    {
      "cell_type": "code",
      "source": [
        "smeans=[np.mean(random.sample(list(pop1),k=50))for i in np.arange(0,100)]\n",
        "print(smeans)"
      ],
      "metadata": {
        "id": "SVy5HQC1D30i",
        "outputId": "3a602606-9a26-4a94-de0f-03466ab5998c",
        "colab": {
          "base_uri": "https://localhost:8080/"
        }
      },
      "execution_count": 28,
      "outputs": [
        {
          "output_type": "stream",
          "name": "stdout",
          "text": [
            "[8.202109400167167, 10.492401612546296, 10.103932376910244, 10.101662678840892, 9.36635415747199, 9.533013514045084, 10.338109442850614, 10.16718742543412, 10.273764196544573, 9.764940037325019, 10.052483725814655, 10.276049813592751, 9.73833991136061, 8.914360194558812, 9.976921783230926, 9.638337519166123, 11.25368876236948, 11.466091402490658, 10.502171921252977, 9.318617240872975, 10.168932563625274, 10.43222999286859, 10.77707037608159, 10.690376742701869, 10.74623343941072, 9.32663478173773, 9.946839327439095, 9.176426461600308, 10.678211801818575, 10.853081571008438, 10.491774123791492, 10.964724474424923, 10.766063704471673, 10.462367436079132, 8.919561225632812, 8.7211663167393, 9.68875668453841, 10.63048641591248, 9.13708862814554, 10.039539436305859, 8.187667336826202, 10.477398016287598, 10.435294275905255, 10.19081986090489, 10.559884273100982, 9.570379852607454, 9.667022410179538, 10.140926901967802, 9.735318569781692, 10.56982347407686, 10.470806840210487, 10.730145297094122, 10.624108901508441, 9.78581002317846, 11.212551430095559, 10.163109813272538, 9.577312404448177, 9.75283122834683, 10.57512116368053, 9.673420303717931, 9.305751687617272, 9.013167419048502, 10.681996375719343, 10.664725019961958, 9.88240194520168, 10.43177081272363, 9.943182255555865, 9.443908061933108, 10.75985503129037, 10.571843209879212, 9.707721618899113, 10.849325137484744, 10.701537019487684, 9.492651195734926, 10.296111186128634, 10.519796867723162, 10.002955678231137, 10.936505353791897, 10.421289138657173, 10.737328833709977, 9.196972453323413, 11.503899591088205, 10.265226472278332, 10.166325053821605, 11.156693131240763, 10.52178144698862, 10.271112751450291, 11.838137446349501, 10.784165305464219, 9.209273071318602, 8.98008964199563, 10.932950890263658, 9.838790967187874, 9.794612129017164, 9.614112190349614, 10.33754982210868, 9.919767200972023, 9.510710475505217, 9.715166627046669, 10.81995093730683]\n"
          ]
        }
      ]
    },
    {
      "cell_type": "code",
      "source": [
        "sns.displot(smeans)"
      ],
      "metadata": {
        "id": "KUbvl8_jH6Mp",
        "outputId": "5dbfcf45-f574-41de-df9f-18f1f580f775",
        "colab": {
          "base_uri": "https://localhost:8080/",
          "height": 524
        }
      },
      "execution_count": 39,
      "outputs": [
        {
          "output_type": "execute_result",
          "data": {
            "text/plain": [
              "<seaborn.axisgrid.FacetGrid at 0x7dbaa721aaa0>"
            ]
          },
          "metadata": {},
          "execution_count": 39
        },
        {
          "output_type": "display_data",
          "data": {
            "text/plain": [
              "<Figure size 500x500 with 1 Axes>"
            ],
            "image/png": "[encoded data removed]"
          },
          "metadata": {}
        }
      ]
    },
    {
      "cell_type": "code",
      "source": [],
      "metadata": {
        "id": "zKPXy6J3GvBJ"
      },
      "execution_count": null,
      "outputs": []
    },
    {
      "cell_type": "code",
      "source": [
        "print(np.mean(pop1),np.mean(smeans))"
      ],
      "metadata": {
        "id": "GOtU3GCJDZSa",
        "outputId": "46d12f13-db09-405a-c373-5a25d139528c",
        "colab": {
          "base_uri": "https://localhost:8080/"
        }
      },
      "execution_count": 31,
      "outputs": [
        {
          "output_type": "stream",
          "name": "stdout",
          "text": [
            "10.036153287514953 10.129389664522275\n"
          ]
        }
      ]
    },
    {
      "cell_type": "code",
      "source": [
        "n=50\n",
        "print(np.std(smeans),'\\n',np.std(pop1)/np.sqrt(n))"
      ],
      "metadata": {
        "id": "WzQmdWl9Dc_6",
        "outputId": "56bfc36d-48dd-4767-c9a0-783077ddd022",
        "colab": {
          "base_uri": "https://localhost:8080/"
        }
      },
      "execution_count": 33,
      "outputs": [
        {
          "output_type": "stream",
          "name": "stdout",
          "text": [
            "0.6838627571627084 \n",
            " 0.7042635513761643\n"
          ]
        }
      ]
    },
    {
      "cell_type": "code",
      "source": [
        "#case-2 Reight Skews distribution\n",
        "pop2=stats.skewnorm.rvs(10,size=10000)\n",
        "sns.distplot(pop2)"
      ],
      "metadata": {
        "id": "KuRDLaJiEPTR",
        "outputId": "dc00a8f6-0eb7-4326-8190-14649909b4fd",
        "colab": {
          "base_uri": "https://localhost:8080/",
          "height": 447
        }
      },
      "execution_count": 19,
      "outputs": [
        {
          "output_type": "execute_result",
          "data": {
            "text/plain": [
              "<Axes: ylabel='Density'>"
            ]
          },
          "metadata": {},
          "execution_count": 19
        },
        {
          "output_type": "display_data",
          "data": {
            "text/plain": [
              "<Figure size 640x480 with 1 Axes>"
            ],
            "image/png": "[encoded data removed]"
          },
          "metadata": {}
        }
      ]
    },
    {
      "cell_type": "code",
      "source": [
        "sample2=random.sample(list(pop2),k=100)\n",
        "sample2"
      ],
      "metadata": {
        "id": "4CrZilnGEXhr",
        "outputId": "af64ffe5-b761-4b45-a219-2936e7cf5d52",
        "colab": {
          "base_uri": "https://localhost:8080/"
        }
      },
      "execution_count": 29,
      "outputs": [
        {
          "output_type": "execute_result",
          "data": {
            "text/plain": [
              "[0.3925285463525713,\n",
              " 0.5236141831983026,\n",
              " 0.37151073608836827,\n",
              " 2.103205502213174,\n",
              " 1.6961525162692779,\n",
              " 1.5661351773947971,\n",
              " 0.37687551426536925,\n",
              " 1.257385336785068,\n",
              " 0.8922650331550406,\n",
              " 0.4500237184467486,\n",
              " -0.01725661068815699,\n",
              " 0.8253714870190338,\n",
              " 0.15968155949701285,\n",
              " 0.04594134933759615,\n",
              " 0.04341006929441768,\n",
              " 0.6959175792749648,\n",
              " 0.9255894146591668,\n",
              " 0.3262297051754162,\n",
              " 0.6540695823391454,\n",
              " 0.5983658269969748,\n",
              " 0.3161110643434662,\n",
              " 0.286271370819104,\n",
              " 0.5147806056068512,\n",
              " 0.3675960855741748,\n",
              " 0.055650578864624795,\n",
              " 0.5223477078981077,\n",
              " 1.1121582352773838,\n",
              " 0.3039592937447567,\n",
              " 0.31030307203537716,\n",
              " -0.05172286182234563,\n",
              " 1.4060901260950693,\n",
              " 1.1211895956470883,\n",
              " 0.09470942872573052,\n",
              " 0.916929520777068,\n",
              " 0.6826780644414873,\n",
              " 1.2753671801717998,\n",
              " 1.4212421618218356,\n",
              " 0.9133747346056583,\n",
              " 1.0172641510028226,\n",
              " 0.40275828941048486,\n",
              " 0.576299624843228,\n",
              " 0.7605444249371878,\n",
              " 0.8739411006612033,\n",
              " 0.023527701637779258,\n",
              " 0.962101731746425,\n",
              " 1.064197480045876,\n",
              " 1.7687779902982785,\n",
              " 0.20531636945853704,\n",
              " 0.7742489360312689,\n",
              " 0.34352807954033926,\n",
              " 0.7223908254663325,\n",
              " 0.8986951955621182,\n",
              " 2.214317057074049,\n",
              " 0.16726130882493073,\n",
              " 1.2886240911637776,\n",
              " 0.2195270138209407,\n",
              " 1.2402248601696324,\n",
              " 0.5250576605064242,\n",
              " 0.9010011461777265,\n",
              " 1.864596732880578,\n",
              " 0.24633814832241113,\n",
              " 0.1983332715059932,\n",
              " 0.8729771635236679,\n",
              " 0.651754354154657,\n",
              " 0.11905466571106915,\n",
              " 0.36728715848607396,\n",
              " 1.7276745319631255,\n",
              " 0.16936610738469465,\n",
              " 0.1517350103017276,\n",
              " 0.7079917647430912,\n",
              " 0.14778883939863785,\n",
              " 0.6890157680811637,\n",
              " 0.7716481510989123,\n",
              " 0.06906291321330883,\n",
              " 0.8943471815513544,\n",
              " 1.4393063913044224,\n",
              " 1.523740182491975,\n",
              " 0.1766238721707864,\n",
              " 1.864109421542872,\n",
              " 0.19281206019651467,\n",
              " 0.5032854517625345,\n",
              " 0.43622473209508955,\n",
              " 2.077399032747467,\n",
              " 0.19415798820933647,\n",
              " 0.38227020638266856,\n",
              " 1.487053498929514,\n",
              " 0.12171482410918716,\n",
              " 0.8006101230158702,\n",
              " 0.6446155908425948,\n",
              " 1.4341967533434055,\n",
              " 0.7601197376523066,\n",
              " 0.4003354360113286,\n",
              " 1.5258595938138328,\n",
              " 1.3349401419898468,\n",
              " 0.6382686695962114,\n",
              " 0.9265937729201601,\n",
              " 0.8331542612132742,\n",
              " 1.0550732345117866,\n",
              " 2.743158517615534,\n",
              " 1.7806627879887247]"
            ]
          },
          "metadata": {},
          "execution_count": 29
        }
      ]
    },
    {
      "cell_type": "code",
      "source": [
        "smeans2=[np.mean(random.sample(list(pop2),k=50))for i in np.arange(0,100)]\n",
        "print(smeans2)\n"
      ],
      "metadata": {
        "id": "dYzKt4mpFZD5",
        "outputId": "17c3ca02-be44-4b62-8546-34839bd2170b",
        "colab": {
          "base_uri": "https://localhost:8080/"
        }
      },
      "execution_count": 30,
      "outputs": [
        {
          "output_type": "stream",
          "name": "stdout",
          "text": [
            "[0.8027915528604729, 0.8275096483557681, 0.8415626416528553, 0.947672583849446, 0.8738715778206182, 0.8450475159773718, 0.864586539733772, 0.7316103608494418, 0.8975071393479754, 0.8323317090006874, 0.7225196066341077, 0.8770443604731946, 1.0021666215293046, 0.853922222170145, 0.6943084505337359, 0.8491893507982479, 0.6855406153569779, 0.8021632856243943, 0.7922999419600086, 0.8067766794443174, 0.8064240791664463, 0.8621333265599347, 0.8098386338084259, 0.7041199923700843, 0.8590375071138836, 0.8494156008114193, 0.9491339830073632, 0.8054171408303651, 0.9379033274416342, 0.7239168961833102, 0.8074339732024964, 0.7021370723053277, 0.7027421714654521, 0.799927309798226, 0.555579328844309, 0.8356675847951547, 0.8572695783913007, 0.8508005432812378, 0.8515015700365163, 0.7670848875628211, 0.7260984054540548, 0.8435965707451462, 0.8348266453374379, 0.7607260116251184, 0.8946064080590301, 0.8305616907361002, 0.8772721879175903, 0.8936081099026718, 0.6867889279808637, 1.1438628562479534, 0.7675268822518129, 1.0065003343797647, 0.8276468318576446, 0.6875123949772104, 0.7540219146426266, 0.8474517915093294, 0.934407476861463, 0.7677023365179206, 0.7010456271312856, 0.6670267666772748, 0.7481568108976632, 0.746494315666412, 0.9138491428428034, 0.8043553876704891, 0.8003343465459181, 0.6990597550642486, 0.717230758871574, 0.8400660421995529, 0.9005102770727846, 0.760478518985491, 0.7818666455238207, 0.6324417683243992, 0.8286659479255087, 0.7918955008529143, 0.9222275955157933, 0.8023389489201119, 0.7753470997766541, 0.722696418052863, 0.8221503402853518, 0.7561615299541942, 0.7830142759651622, 0.8750928186888959, 0.899131335536125, 0.8838954682455403, 0.9047834294160811, 0.9166445373662486, 0.7665894543788301, 0.7503699876958824, 0.8754772441847067, 0.9882575620417632, 0.8732305176387755, 0.8629377303414221, 0.8148709062376368, 0.7987165442153988, 0.9473280745455078, 0.8566800114840629, 0.827276483723699, 0.7753719878996524, 0.7772459004006086, 0.7711812124904065]\n"
          ]
        }
      ]
    },
    {
      "cell_type": "code",
      "source": [
        "sns.displot(smeans2)"
      ],
      "metadata": {
        "id": "OnsSWd8rHJ1W",
        "outputId": "ffcf32e7-8877-4c1f-cf65-f9e1b85a72b7",
        "colab": {
          "base_uri": "https://localhost:8080/",
          "height": 523
        }
      },
      "execution_count": 34,
      "outputs": [
        {
          "output_type": "execute_result",
          "data": {
            "text/plain": [
              "<seaborn.axisgrid.FacetGrid at 0x7dbaa8a566e0>"
            ]
          },
          "metadata": {},
          "execution_count": 34
        },
        {
          "output_type": "display_data",
          "data": {
            "text/plain": [
              "<Figure size 500x500 with 1 Axes>"
            ],
            "image/png": "[encoded data removed]"
          },
          "metadata": {}
        }
      ]
    },
    {
      "cell_type": "code",
      "source": [
        "print(stats.skew(smeans2),'\\n',stats.skew(pop2))"
      ],
      "metadata": {
        "id": "V9mIM1t_G8bi",
        "outputId": "ac9e15b7-2778-43a5-a297-2bd3bec150c8",
        "colab": {
          "base_uri": "https://localhost:8080/"
        }
      },
      "execution_count": 35,
      "outputs": [
        {
          "output_type": "stream",
          "name": "stdout",
          "text": [
            "0.2893770230688701 \n",
            " 0.9761753737560325\n"
          ]
        }
      ]
    },
    {
      "cell_type": "code",
      "source": [
        "print(np.mean(pop2),np.mean(smeans2))"
      ],
      "metadata": {
        "id": "zjj47ShBHmRb",
        "outputId": "18aad9a5-cea6-4976-cb72-eeb8b07d1329",
        "colab": {
          "base_uri": "https://localhost:8080/"
        }
      },
      "execution_count": 38,
      "outputs": [
        {
          "output_type": "stream",
          "name": "stdout",
          "text": [
            "0.7947616774194359 0.817551197152058\n"
          ]
        }
      ]
    },
    {
      "cell_type": "code",
      "source": [
        "n=50\n",
        "print(np.std(smeans2),'\\n',np.std(pop2)/np.sqrt(n))"
      ],
      "metadata": {
        "id": "oPbYiTCVHeK2",
        "outputId": "8c016ea6-f631-4bd5-9926-26c7f605bae9",
        "colab": {
          "base_uri": "https://localhost:8080/"
        }
      },
      "execution_count": 36,
      "outputs": [
        {
          "output_type": "stream",
          "name": "stdout",
          "text": [
            "0.08740638750223655 \n",
            " 0.08737727723769949\n"
          ]
        }
      ]
    }
  ]
}